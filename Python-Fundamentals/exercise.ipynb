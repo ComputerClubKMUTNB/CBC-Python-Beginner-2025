{
 "cells": [
  {
   "cell_type": "code",
   "execution_count": null,
   "id": "35ce087e",
   "metadata": {},
   "outputs": [],
   "source": [
    "PI = 3.14\n",
    "\n",
    "radius = float(input(\"Enter the radius of circle:\"))\n",
    "area_of_circle = PI * (radius ** 2)\n",
    "\n",
    "print(f\"The area of the circle with radius {radius} is {area_of_circle}\")"
   ]
  },
  {
   "cell_type": "code",
   "execution_count": 3,
   "id": "d18f8901",
   "metadata": {},
   "outputs": [
    {
     "name": "stdout",
     "output_type": "stream",
     "text": [
      "Result: 615\n"
     ]
    }
   ],
   "source": [
    "n = int(input(\"Input an integer: \"))\n",
    "nn = int(f\"{n}{n}\")\n",
    "nnn = int(f\"{n}{n}{n}\")\n",
    "\n",
    "result = n + nn + nnn\n",
    "print(\"Result:\",result)\n"
   ]
  }
 ],
 "metadata": {
  "kernelspec": {
   "display_name": "Python 3",
   "language": "python",
   "name": "python3"
  },
  "language_info": {
   "codemirror_mode": {
    "name": "ipython",
    "version": 3
   },
   "file_extension": ".py",
   "mimetype": "text/x-python",
   "name": "python",
   "nbconvert_exporter": "python",
   "pygments_lexer": "ipython3",
   "version": "3.9.6"
  }
 },
 "nbformat": 4,
 "nbformat_minor": 5
}
