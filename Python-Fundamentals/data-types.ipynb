{
 "cells": [
  {
   "cell_type": "code",
   "execution_count": 2,
   "id": "ea96c6b5",
   "metadata": {},
   "outputs": [
    {
     "name": "stdout",
     "output_type": "stream",
     "text": [
      "<class 'str'>\n",
      "<class 'int'>\n",
      "<class 'float'>\n",
      "<class 'list'>\n",
      "<class 'range'>\n",
      "<class 'bool'>\n",
      "<class 'NoneType'>\n"
     ]
    }
   ],
   "source": [
    "print(type(\"Hello World\"))\n",
    "print(type(20))\n",
    "print(type(20.5))\n",
    "print(type([\"apple\", \"banana\"]))\n",
    "print(type(range(6)))\n",
    "print(type(True))\n",
    "print(type(None))"
   ]
  },
  {
   "cell_type": "code",
   "execution_count": null,
   "id": "586e6c0a",
   "metadata": {},
   "outputs": [
    {
     "data": {
      "text/plain": [
       "9"
      ]
     },
     "execution_count": 7,
     "metadata": {},
     "output_type": "execute_result"
    }
   ],
   "source": [
    "int(\"9\")        # 9\n",
    "# int(\"9.8\")    # ValueError\n",
    "# int(\"Hello\")  # ValueError\n",
    "int(9.1)        # 9\n",
    "int(9.8)        # 9\n",
    "\n",
    "float(\"9.8\")    # 9.8\n",
    "float(9)        # 9.0\n",
    "# float(\"Hello\")# ValueError\n",
    "\n",
    "str(9)          # \"9\"\n",
    "str(9.0)        # \"9.0\""
   ]
  }
 ],
 "metadata": {
  "kernelspec": {
   "display_name": "Python 3",
   "language": "python",
   "name": "python3"
  },
  "language_info": {
   "codemirror_mode": {
    "name": "ipython",
    "version": 3
   },
   "file_extension": ".py",
   "mimetype": "text/x-python",
   "name": "python",
   "nbconvert_exporter": "python",
   "pygments_lexer": "ipython3",
   "version": "3.9.6"
  }
 },
 "nbformat": 4,
 "nbformat_minor": 5
}
