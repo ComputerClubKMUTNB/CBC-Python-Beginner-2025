{
 "cells": [
  {
   "cell_type": "code",
   "execution_count": 1,
   "id": "ff7006fc",
   "metadata": {},
   "outputs": [
    {
     "name": "stdout",
     "output_type": "stream",
     "text": [
      "11\n"
     ]
    }
   ],
   "source": [
    "print(5 + 6)   # 11"
   ]
  },
  {
   "cell_type": "code",
   "execution_count": 2,
   "id": "6c39f2fe",
   "metadata": {},
   "outputs": [
    {
     "name": "stdout",
     "output_type": "stream",
     "text": [
      "Sum:  9\n",
      "Subtraction:  5\n",
      "Multiplication:  14\n",
      "Division:  3.5\n"
     ]
    }
   ],
   "source": [
    "a = 7\n",
    "b = 2\n",
    "\n",
    "# addition\n",
    "print ('Sum: ', a + b)\n",
    "\n",
    "# subtraction\n",
    "print ('Subtraction: ', a - b)\n",
    "\n",
    "# multiplication\n",
    "print ('Multiplication: ', a * b)\n",
    "\n",
    "# division\n",
    "print ('Division: ', a / b)\n"
   ]
  },
  {
   "cell_type": "code",
   "execution_count": 3,
   "id": "fb1da952",
   "metadata": {},
   "outputs": [
    {
     "name": "stdout",
     "output_type": "stream",
     "text": [
      "Floor Division:  3\n",
      "Modulo:  1\n",
      "Power:  49\n"
     ]
    }
   ],
   "source": [
    "a = 7\n",
    "b = 2\n",
    "\n",
    "# floor division\n",
    "print ('Floor Division: ', a // b)\n",
    "\n",
    "# modulo\n",
    "print ('Modulo: ', a % b)\n",
    "\n",
    "# a to the power b\n",
    "print ('Power: ', a ** b)"
   ]
  },
  {
   "cell_type": "code",
   "execution_count": 4,
   "id": "08a47130",
   "metadata": {},
   "outputs": [
    {
     "name": "stdout",
     "output_type": "stream",
     "text": [
      "x before change = 10\n",
      "x after change = 11\n"
     ]
    }
   ],
   "source": [
    "x = 10\n",
    "print(f\"x before change = {x}\")\n",
    "\n",
    "x = x + 1\n",
    "print(f\"x after change = {x}\")"
   ]
  },
  {
   "cell_type": "code",
   "execution_count": 5,
   "id": "20e94565",
   "metadata": {},
   "outputs": [
    {
     "name": "stdout",
     "output_type": "stream",
     "text": [
      "x before change = 10\n",
      "x after change = 11\n"
     ]
    }
   ],
   "source": [
    "x = 10\n",
    "print(f\"x before change = {x}\")\n",
    "\n",
    "x += 1\n",
    "print(f\"x after change = {x}\")"
   ]
  },
  {
   "cell_type": "code",
   "execution_count": 6,
   "id": "5fdd14f4",
   "metadata": {},
   "outputs": [
    {
     "name": "stdout",
     "output_type": "stream",
     "text": [
      "x before change = 10\n",
      "x after change = 40\n"
     ]
    }
   ],
   "source": [
    "x = 10\n",
    "y = 30\n",
    "print(f\"x before change = {x}\")\n",
    "\n",
    "x += y\n",
    "print(f\"x after change = {x}\")"
   ]
  }
 ],
 "metadata": {
  "kernelspec": {
   "display_name": "Python 3",
   "language": "python",
   "name": "python3"
  },
  "language_info": {
   "codemirror_mode": {
    "name": "ipython",
    "version": 3
   },
   "file_extension": ".py",
   "mimetype": "text/x-python",
   "name": "python",
   "nbconvert_exporter": "python",
   "pygments_lexer": "ipython3",
   "version": "3.9.6"
  }
 },
 "nbformat": 4,
 "nbformat_minor": 5
}
