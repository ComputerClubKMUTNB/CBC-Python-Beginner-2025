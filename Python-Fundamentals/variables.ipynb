{
 "cells": [
  {
   "cell_type": "code",
   "execution_count": 1,
   "id": "ae8f0ff1",
   "metadata": {},
   "outputs": [
    {
     "name": "stdout",
     "output_type": "stream",
     "text": [
      "10\n"
     ]
    }
   ],
   "source": [
    "number = 10\n",
    "print(number)"
   ]
  },
  {
   "cell_type": "code",
   "execution_count": 2,
   "id": "aa5a3cd8",
   "metadata": {},
   "outputs": [],
   "source": [
    "myvar = \"John\"\n",
    "my_var = \"John\"\n",
    "_my_var = \"John\"\n",
    "myVar = \"John\"\n",
    "MYVAR = \"John\"\n",
    "myvar2 = \"John\""
   ]
  },
  {
   "cell_type": "code",
   "execution_count": 6,
   "id": "cdbfa12f",
   "metadata": {},
   "outputs": [
    {
     "ename": "SyntaxError",
     "evalue": "invalid syntax (2185399839.py, line 1)",
     "output_type": "error",
     "traceback": [
      "\u001b[0;36m  Cell \u001b[0;32mIn[6], line 1\u001b[0;36m\u001b[0m\n\u001b[0;31m    2myvar = \"John\"\u001b[0m\n\u001b[0m     ^\u001b[0m\n\u001b[0;31mSyntaxError\u001b[0m\u001b[0;31m:\u001b[0m invalid syntax\n"
     ]
    }
   ],
   "source": [
    "2myvar = \"John\"\n",
    "my-var = \"John\"\n",
    "my var = \"John\""
   ]
  },
  {
   "cell_type": "code",
   "execution_count": null,
   "id": "47e82899",
   "metadata": {},
   "outputs": [],
   "source": [
    "# camelCase\n",
    "userName = \"Alice\"\n",
    "totalScore = 95\n",
    "maximumSpeed = 120.5\n",
    "\n",
    "# snake_case\n",
    "user_name = \"Bob\"\n",
    "total_score = 88\n",
    "maximum_speed = 100.0\n",
    "\n",
    "# PascalCase (typically used for class names, but shown here as variables for example)\n",
    "UserName = \"Charlie\"\n",
    "TotalScore = 75\n",
    "MaximumSpeed = 110.2\n"
   ]
  },
  {
   "cell_type": "code",
   "execution_count": null,
   "id": "6e7cd59c",
   "metadata": {},
   "outputs": [],
   "source": [
    "spam = 'Hello'\n",
    "print(spam)     # 'Hello'\n",
    "\n",
    "spam = 'Goodbye'\n",
    "print(spam)     # 'Goodbye'"
   ]
  }
 ],
 "metadata": {
  "kernelspec": {
   "display_name": "Python 3",
   "language": "python",
   "name": "python3"
  },
  "language_info": {
   "codemirror_mode": {
    "name": "ipython",
    "version": 3
   },
   "file_extension": ".py",
   "mimetype": "text/x-python",
   "name": "python",
   "nbconvert_exporter": "python",
   "pygments_lexer": "ipython3",
   "version": "3.9.6"
  }
 },
 "nbformat": 4,
 "nbformat_minor": 5
}
