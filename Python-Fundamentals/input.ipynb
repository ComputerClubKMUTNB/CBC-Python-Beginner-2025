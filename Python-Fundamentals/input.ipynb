{
 "cells": [
  {
   "cell_type": "code",
   "execution_count": null,
   "id": "09048872",
   "metadata": {},
   "outputs": [],
   "source": [
    "input(prompt)"
   ]
  },
  {
   "cell_type": "code",
   "execution_count": 4,
   "id": "4927045d",
   "metadata": {},
   "outputs": [
    {
     "name": "stdout",
     "output_type": "stream",
     "text": [
      "You Entered: hi\n"
     ]
    }
   ],
   "source": [
    "# using input() to take user input\n",
    "my_input = input()\n",
    "print('You Entered:', my_input)"
   ]
  },
  {
   "cell_type": "code",
   "execution_count": 1,
   "id": "24a37f78",
   "metadata": {},
   "outputs": [
    {
     "name": "stdout",
     "output_type": "stream",
     "text": [
      "You Entered: 21\n",
      "Data type of num: <class 'str'>\n"
     ]
    }
   ],
   "source": [
    "# using input() to take user input\n",
    "num = input('Enter a number: ')\n",
    "\n",
    "print('You Entered:', num)\n",
    "\n",
    "print('Data type of num:', type(num))"
   ]
  },
  {
   "cell_type": "code",
   "execution_count": 2,
   "id": "fcc9e192",
   "metadata": {},
   "outputs": [
    {
     "name": "stdout",
     "output_type": "stream",
     "text": [
      "You Entered: 21\n",
      "Data type of num: <class 'int'>\n"
     ]
    }
   ],
   "source": [
    "# using input() to take user input\n",
    "num = int(input('Enter a number: '))\n",
    "\n",
    "print('You Entered:', num)\n",
    "\n",
    "print('Data type of num:', type(num))"
   ]
  },
  {
   "cell_type": "code",
   "execution_count": 3,
   "id": "f5324215",
   "metadata": {},
   "outputs": [
    {
     "name": "stdout",
     "output_type": "stream",
     "text": [
      "You Entered: 21.0\n",
      "Data type of num: <class 'float'>\n"
     ]
    }
   ],
   "source": [
    "# using input() to take user input\n",
    "num = float(input('Enter a number: '))\n",
    "\n",
    "print('You Entered:', num)\n",
    "\n",
    "print('Data type of num:', type(num))"
   ]
  }
 ],
 "metadata": {
  "kernelspec": {
   "display_name": "Python 3",
   "language": "python",
   "name": "python3"
  },
  "language_info": {
   "codemirror_mode": {
    "name": "ipython",
    "version": 3
   },
   "file_extension": ".py",
   "mimetype": "text/x-python",
   "name": "python",
   "nbconvert_exporter": "python",
   "pygments_lexer": "ipython3",
   "version": "3.9.6"
  }
 },
 "nbformat": 4,
 "nbformat_minor": 5
}
