{
 "cells": [
  {
   "cell_type": "code",
   "execution_count": null,
   "id": "09048872",
   "metadata": {},
   "outputs": [],
   "source": [
    "input(prompt)"
   ]
  }
 ],
 "metadata": {
  "language_info": {
   "name": "python"
  }
 },
 "nbformat": 4,
 "nbformat_minor": 5
}
