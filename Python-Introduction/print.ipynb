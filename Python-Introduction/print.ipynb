{
 "cells": [
  {
   "cell_type": "code",
   "execution_count": 1,
   "id": "a7fb5e43",
   "metadata": {},
   "outputs": [
    {
     "name": "stdout",
     "output_type": "stream",
     "text": [
      "Python is powerful\n"
     ]
    }
   ],
   "source": [
    "print('Python is powerful')\n",
    "\n",
    "# Output: Python is powerful"
   ]
  },
  {
   "cell_type": "code",
   "execution_count": 1,
   "id": "eab0d5be",
   "metadata": {},
   "outputs": [
    {
     "name": "stdout",
     "output_type": "stream",
     "text": [
      "Hello, World!\n"
     ]
    }
   ],
   "source": [
    "print(\"Hello, World!\")"
   ]
  },
  {
   "cell_type": "code",
   "execution_count": 12,
   "id": "c15415d9",
   "metadata": {},
   "outputs": [
    {
     "ename": "SyntaxError",
     "evalue": "invalid syntax (73744898.py, line 1)",
     "output_type": "error",
     "traceback": [
      "\u001b[0;36m  Cell \u001b[0;32mIn[12], line 1\u001b[0;36m\u001b[0m\n\u001b[0;31m    print(Hello, World!)\u001b[0m\n\u001b[0m                      ^\u001b[0m\n\u001b[0;31mSyntaxError\u001b[0m\u001b[0;31m:\u001b[0m invalid syntax\n"
     ]
    }
   ],
   "source": [
    "print(Hello, World!)"
   ]
  },
  {
   "cell_type": "code",
   "execution_count": 6,
   "id": "cfc1c644",
   "metadata": {},
   "outputs": [
    {
     "name": "stdout",
     "output_type": "stream",
     "text": [
      "New Line 1\n",
      "New Line 2\n",
      "New Line 3\n"
     ]
    }
   ],
   "source": [
    "print(\"New Line 1\")\n",
    "print(\"New Line 2\")\n",
    "print(\"New Line 3\")"
   ]
  },
  {
   "cell_type": "markdown",
   "id": "2564ba91",
   "metadata": {},
   "source": [
    "## (parameter) end: str | None"
   ]
  },
  {
   "cell_type": "code",
   "execution_count": 14,
   "id": "ccc9de62",
   "metadata": {},
   "outputs": [
    {
     "name": "stdout",
     "output_type": "stream",
     "text": [
      "My nameisComClubKMUTNB"
     ]
    }
   ],
   "source": [
    "print(\"My name\", end=\"\")\n",
    "print(\"is\", end=\"\")\n",
    "print(\"ComClubKMUTNB\", end=\"\")"
   ]
  },
  {
   "cell_type": "code",
   "execution_count": 16,
   "id": "e8e2fc74",
   "metadata": {},
   "outputs": [
    {
     "name": "stdout",
     "output_type": "stream",
     "text": [
      "My name<END1>is<END2>ComClubKMUTNB<END3>"
     ]
    }
   ],
   "source": [
    "print(\"My name\", end=\"<END1>\")\n",
    "print(\"is\", end=\"<END2>\")\n",
    "print(\"ComClubKMUTNB\", end=\"<END3>\")"
   ]
  },
  {
   "cell_type": "code",
   "execution_count": null,
   "id": "4d8308f0",
   "metadata": {},
   "outputs": [
    {
     "name": "stdout",
     "output_type": "stream",
     "text": [
      "New Line 1\n",
      "New Line 2\n",
      "New Line 3\n"
     ]
    }
   ],
   "source": [
    "# by default print function end=\"\\n\"\n",
    "print(\"New Line 1\", end=\"\\n\")\n",
    "print(\"New Line 2\", end=\"\\n\")\n",
    "print(\"New Line 3\", end=\"\\n\")"
   ]
  },
  {
   "cell_type": "code",
   "execution_count": 17,
   "id": "924267c7",
   "metadata": {},
   "outputs": [
    {
     "name": "stdout",
     "output_type": "stream",
     "text": [
      "P' Kaning Cpr.E\n"
     ]
    }
   ],
   "source": [
    "print(\"P'\", \"Kaning\", \"Cpr.E\")"
   ]
  },
  {
   "cell_type": "code",
   "execution_count": 20,
   "id": "4b6be439",
   "metadata": {},
   "outputs": [
    {
     "name": "stdout",
     "output_type": "stream",
     "text": [
      "P' Kaning Cpr.E\n"
     ]
    }
   ],
   "source": [
    "print(\"P'\", \"Kaning\", \"Cpr.E\",sep=\" \")"
   ]
  },
  {
   "cell_type": "code",
   "execution_count": null,
   "id": "f38ca2fa",
   "metadata": {},
   "outputs": [],
   "source": [
    "print(\"P'\", \"Kaning\", \"Cpr.E\",sep=\"\")"
   ]
  },
  {
   "cell_type": "code",
   "execution_count": 21,
   "id": "bbababc9",
   "metadata": {},
   "outputs": [
    {
     "name": "stdout",
     "output_type": "stream",
     "text": [
      "P'>>Kaning>>Cpr.E\n"
     ]
    }
   ],
   "source": [
    "print(\"P'\", \"Kaning\", \"Cpr.E\",sep=\">>\")"
   ]
  },
  {
   "cell_type": "code",
   "execution_count": 3,
   "id": "a10cff01",
   "metadata": {},
   "outputs": [
    {
     "name": "stdout",
     "output_type": "stream",
     "text": [
      "1\n",
      "1\n"
     ]
    }
   ],
   "source": [
    "print(1)\n",
    "print(\"1\")"
   ]
  },
  {
   "cell_type": "code",
   "execution_count": 23,
   "id": "4e6df85e",
   "metadata": {},
   "outputs": [
    {
     "name": "stdout",
     "output_type": "stream",
     "text": [
      "I have 20 dollars\n"
     ]
    }
   ],
   "source": [
    "print(\"I have\", 20, \"dollars\")"
   ]
  },
  {
   "cell_type": "code",
   "execution_count": 29,
   "id": "819022c8",
   "metadata": {},
   "outputs": [
    {
     "name": "stdout",
     "output_type": "stream",
     "text": [
      "I have 20 dollars\n",
      "number 20\n"
     ]
    }
   ],
   "source": [
    "print(f\"I have {20} dollars\")\n",
    "print(f\"{'number'} {20}\")"
   ]
  },
  {
   "cell_type": "code",
   "execution_count": 30,
   "id": "8856e3ad",
   "metadata": {},
   "outputs": [
    {
     "name": "stdout",
     "output_type": "stream",
     "text": [
      "I have 20 dollars\n",
      "number 20\n"
     ]
    }
   ],
   "source": [
    "print(\"I have %d dollars\" % 20)\n",
    "print(\"%s %d\" % (\"number\", 20))"
   ]
  },
  {
   "cell_type": "markdown",
   "id": "51de2fd4",
   "metadata": {},
   "source": [
    "Exercise1"
   ]
  },
  {
   "cell_type": "code",
   "execution_count": 31,
   "id": "21616f39",
   "metadata": {},
   "outputs": [
    {
     "name": "stdout",
     "output_type": "stream",
     "text": [
      "My Name is Kaning\n",
      "I am 20 years old\n",
      "My major is Cpr.E\n"
     ]
    }
   ],
   "source": [
    "print(\"My Name is Kaning\")\n",
    "print(\"I am 20 years old\")\n",
    "print(\"My major is Cpr.E\")"
   ]
  },
  {
   "cell_type": "code",
   "execution_count": 32,
   "id": "bb3a7dd8",
   "metadata": {},
   "outputs": [
    {
     "name": "stdout",
     "output_type": "stream",
     "text": [
      "My Name is 'ชื่อ'\n",
      "I am 'อายุ' years old\n",
      "My major is 'สาขา'\n"
     ]
    }
   ],
   "source": [
    "print(\"My Name is 'ชื่อ'\")\n",
    "print(\"I am 'อายุ' years old\")\n",
    "print(\"My major is 'สาขา'\")"
   ]
  }
 ],
 "metadata": {
  "kernelspec": {
   "display_name": "Python 3",
   "language": "python",
   "name": "python3"
  },
  "language_info": {
   "codemirror_mode": {
    "name": "ipython",
    "version": 3
   },
   "file_extension": ".py",
   "mimetype": "text/x-python",
   "name": "python",
   "nbconvert_exporter": "python",
   "pygments_lexer": "ipython3",
   "version": "3.9.6"
  }
 },
 "nbformat": 4,
 "nbformat_minor": 5
}
