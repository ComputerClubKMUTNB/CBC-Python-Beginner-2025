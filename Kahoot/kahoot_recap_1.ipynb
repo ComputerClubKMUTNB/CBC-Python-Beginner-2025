{
 "cells": [
  {
   "cell_type": "markdown",
   "id": "660eca36",
   "metadata": {},
   "source": [
    "# Kahoot Recap 1"
   ]
  },
  {
   "cell_type": "markdown",
   "id": "eb920256",
   "metadata": {},
   "source": [
    "### logical operators"
   ]
  },
  {
   "cell_type": "code",
   "execution_count": null,
   "id": "377d2c48",
   "metadata": {},
   "outputs": [],
   "source": [
    "print(True and False)"
   ]
  },
  {
   "cell_type": "code",
   "execution_count": 1,
   "id": "117cea86",
   "metadata": {},
   "outputs": [
    {
     "name": "stdout",
     "output_type": "stream",
     "text": [
      "False\n"
     ]
    }
   ],
   "source": [
    "print(False or False)"
   ]
  },
  {
   "cell_type": "code",
   "execution_count": 4,
   "id": "d37ca2d9",
   "metadata": {},
   "outputs": [
    {
     "name": "stdout",
     "output_type": "stream",
     "text": [
      "True\n"
     ]
    }
   ],
   "source": [
    "print(not False)"
   ]
  },
  {
   "cell_type": "code",
   "execution_count": 9,
   "id": "36fb7cbf",
   "metadata": {},
   "outputs": [
    {
     "name": "stdout",
     "output_type": "stream",
     "text": [
      "True\n"
     ]
    }
   ],
   "source": [
    "print(True or False and True and (not False))"
   ]
  },
  {
   "cell_type": "markdown",
   "id": "d64c62cf",
   "metadata": {},
   "source": [
    "### if...else"
   ]
  },
  {
   "cell_type": "code",
   "execution_count": 2,
   "id": "993e3843",
   "metadata": {},
   "outputs": [
    {
     "ename": "SyntaxError",
     "evalue": "expected ':' (2077659973.py, line 3)",
     "output_type": "error",
     "traceback": [
      "  \u001b[36mCell\u001b[39m\u001b[36m \u001b[39m\u001b[32mIn[2]\u001b[39m\u001b[32m, line 3\u001b[39m\n\u001b[31m    \u001b[39m\u001b[31mif x > 0\u001b[39m\n            ^\n\u001b[31mSyntaxError\u001b[39m\u001b[31m:\u001b[39m expected ':'\n"
     ]
    }
   ],
   "source": [
    "x = 10\n",
    "\n",
    "if x > 0\n",
    "    print(\"X is more than zero\")"
   ]
  },
  {
   "cell_type": "code",
   "execution_count": 24,
   "id": "0e77c90c",
   "metadata": {},
   "outputs": [
    {
     "name": "stdout",
     "output_type": "stream",
     "text": [
      "This is message 1\n"
     ]
    }
   ],
   "source": [
    "x = 0\n",
    "\n",
    "if x >= 0:\n",
    "    print(\"This is message 1\")\n",
    "if x < 0:\n",
    "    print(\"This is message 2\")"
   ]
  },
  {
   "cell_type": "code",
   "execution_count": 10,
   "id": "b9df9eed",
   "metadata": {},
   "outputs": [
    {
     "name": "stdout",
     "output_type": "stream",
     "text": [
      "110\n"
     ]
    }
   ],
   "source": [
    "x = 0\n",
    "\n",
    "if True:\n",
    "    x = x + 77\n",
    "if True:\n",
    "    x = x + 33\n",
    "    \n",
    "print(x)"
   ]
  },
  {
   "cell_type": "code",
   "execution_count": 12,
   "id": "584e5e69",
   "metadata": {},
   "outputs": [
    {
     "name": "stdout",
     "output_type": "stream",
     "text": [
      "105\n"
     ]
    }
   ],
   "source": [
    "x = 97\n",
    "\n",
    "if x % 2 == 1:\n",
    "    x = x + 8\n",
    "if x % 3 == 1:\n",
    "    x = x + 13\n",
    "print(x)"
   ]
  },
  {
   "cell_type": "code",
   "execution_count": 3,
   "id": "48ad35ae",
   "metadata": {},
   "outputs": [
    {
     "name": "stdout",
     "output_type": "stream",
     "text": [
      "This is else statement\n"
     ]
    }
   ],
   "source": [
    "condition = False\n",
    "\n",
    "if condition:\n",
    "    print(\"This is if statement\")\n",
    "else:\n",
    "    print(\"This is else statement\")"
   ]
  },
  {
   "cell_type": "code",
   "execution_count": 21,
   "id": "3d5e5c64",
   "metadata": {},
   "outputs": [
    {
     "name": "stdout",
     "output_type": "stream",
     "text": [
      "bye\n"
     ]
    }
   ],
   "source": [
    "phrase = \"hi\"\n",
    "\n",
    "if phrase != \"hi\":\n",
    "    print(\"hello\")\n",
    "else:\n",
    "    print(\"bye\")"
   ]
  },
  {
   "cell_type": "code",
   "execution_count": 23,
   "id": "2f612c90",
   "metadata": {},
   "outputs": [
    {
     "name": "stdout",
     "output_type": "stream",
     "text": [
      "Try again!\n"
     ]
    }
   ],
   "source": [
    "inputPassword = \"1234\"\n",
    "\n",
    "if inputPassword == 1234:\n",
    "    print(\"Unlocked\")\n",
    "else:\n",
    "    print(\"Try again!\")"
   ]
  },
  {
   "cell_type": "code",
   "execution_count": 25,
   "id": "cd4a5412",
   "metadata": {},
   "outputs": [
    {
     "name": "stdout",
     "output_type": "stream",
     "text": [
      "Welcome P'North\n"
     ]
    }
   ],
   "source": [
    "inputYourName = \"North\"\n",
    "\n",
    "if inputYourName == \"North\":\n",
    "    print(\"Welcome P'North\")\n",
    "else:\n",
    "    print(\"Please get out\")"
   ]
  },
  {
   "cell_type": "code",
   "execution_count": null,
   "id": "5d11ff95",
   "metadata": {},
   "outputs": [
    {
     "name": "stdout",
     "output_type": "stream",
     "text": [
      "Welcome, here's your Thunder\n"
     ]
    }
   ],
   "source": [
    "Gym = \"Yellow\"\n",
    "\n",
    "if Gym == \"Blue\":\n",
    "    print(\"Welcome, here's your Furiizaa\")\n",
    "elif Gym == \"Yellow\":\n",
    "    print(\"Welcome, here's your Thunder\")\n",
    "elif Gym == \"Red\":\n",
    "    print(\"Welcome, here's your Fire\")"
   ]
  }
 ],
 "metadata": {
  "kernelspec": {
   "display_name": "Python 3",
   "language": "python",
   "name": "python3"
  },
  "language_info": {
   "codemirror_mode": {
    "name": "ipython",
    "version": 3
   },
   "file_extension": ".py",
   "mimetype": "text/x-python",
   "name": "python",
   "nbconvert_exporter": "python",
   "pygments_lexer": "ipython3",
   "version": "3.13.2"
  }
 },
 "nbformat": 4,
 "nbformat_minor": 5
}
