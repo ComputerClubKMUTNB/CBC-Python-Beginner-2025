{
 "cells": [
  {
   "cell_type": "markdown",
   "id": "5975d0b4",
   "metadata": {},
   "source": [
    "# Kahoot Recap 2"
   ]
  },
  {
   "cell_type": "markdown",
   "id": "ff9eb990",
   "metadata": {},
   "source": [
    "### Iteration"
   ]
  },
  {
   "cell_type": "markdown",
   "id": "faf0f0c3",
   "metadata": {},
   "source": [
    "range"
   ]
  },
  {
   "cell_type": "code",
   "execution_count": 3,
   "id": "2c17772f",
   "metadata": {},
   "outputs": [
    {
     "name": "stdout",
     "output_type": "stream",
     "text": [
      "0 1 2 3 4 5 6 7 8 9\n"
     ]
    }
   ],
   "source": [
    "print(*range(0, 10))"
   ]
  },
  {
   "cell_type": "markdown",
   "id": "9f745aec",
   "metadata": {},
   "source": [
    "for loops"
   ]
  },
  {
   "cell_type": "code",
   "execution_count": 12,
   "id": "8b49829a",
   "metadata": {},
   "outputs": [
    {
     "name": "stdout",
     "output_type": "stream",
     "text": [
      "5\n"
     ]
    }
   ],
   "source": [
    "for i in range(1, 6):\n",
    "    pass\n",
    "print(i)"
   ]
  },
  {
   "cell_type": "code",
   "execution_count": 13,
   "id": "1b2c507a",
   "metadata": {},
   "outputs": [
    {
     "name": "stdout",
     "output_type": "stream",
     "text": [
      "6\n"
     ]
    }
   ],
   "source": [
    "a = 0\n",
    "\n",
    "for i in range(0, 4):\n",
    "    a += i\n",
    "print(a)"
   ]
  },
  {
   "cell_type": "code",
   "execution_count": 14,
   "id": "e5cca629",
   "metadata": {},
   "outputs": [
    {
     "name": "stdout",
     "output_type": "stream",
     "text": [
      "apple\n"
     ]
    }
   ],
   "source": [
    "list = [\"apple\", \"papaya\", \"banana\", \"orange\"]\n",
    "\n",
    "for fruit in list[::-1]:\n",
    "    pass\n",
    "print(fruit)"
   ]
  },
  {
   "cell_type": "markdown",
   "id": "cee93c79",
   "metadata": {},
   "source": [
    "while loops"
   ]
  },
  {
   "cell_type": "code",
   "execution_count": null,
   "id": "2b11fedc",
   "metadata": {},
   "outputs": [],
   "source": [
    "# ! DO NOT RUN\n",
    "while True:\n",
    "    print(\"Message\")"
   ]
  },
  {
   "cell_type": "code",
   "execution_count": 57,
   "id": "13309c34",
   "metadata": {},
   "outputs": [
    {
     "name": "stdout",
     "output_type": "stream",
     "text": [
      "51\n"
     ]
    }
   ],
   "source": [
    "x = 12\n",
    "\n",
    "while x % 17 != 0:\n",
    "    x += 3\n",
    "print(x)"
   ]
  },
  {
   "cell_type": "code",
   "execution_count": 25,
   "id": "150dc822",
   "metadata": {},
   "outputs": [
    {
     "name": "stdout",
     "output_type": "stream",
     "text": [
      "j = 31, k = 31\n"
     ]
    }
   ],
   "source": [
    "j = 11\n",
    "k = 30\n",
    "\n",
    "while j != k:\n",
    "    if j < k:\n",
    "        j += 2\n",
    "    else:\n",
    "        k += 1\n",
    "print(f\"j = {j}, k = {k}\")"
   ]
  },
  {
   "cell_type": "markdown",
   "id": "e86b0fdb",
   "metadata": {},
   "source": [
    "break"
   ]
  },
  {
   "cell_type": "code",
   "execution_count": 32,
   "id": "4130d43c",
   "metadata": {},
   "outputs": [
    {
     "name": "stdout",
     "output_type": "stream",
     "text": [
      "c\n"
     ]
    }
   ],
   "source": [
    "alphabets = ['a', 'b', 'c', 'd']\n",
    "\n",
    "for alp in alphabets:\n",
    "    if alp == 'c':\n",
    "        break\n",
    "print(alp)"
   ]
  },
  {
   "cell_type": "markdown",
   "id": "963ee876",
   "metadata": {},
   "source": [
    "continue"
   ]
  },
  {
   "cell_type": "code",
   "execution_count": 35,
   "id": "19d6747d",
   "metadata": {},
   "outputs": [
    {
     "name": "stdout",
     "output_type": "stream",
     "text": [
      "0\n",
      "1\n",
      "2\n",
      "3\n",
      "4\n",
      "5\n",
      "7\n",
      "8\n",
      "9\n"
     ]
    }
   ],
   "source": [
    "for i in range(10):\n",
    "    if i == 6:\n",
    "        continue\n",
    "    print(i)"
   ]
  },
  {
   "cell_type": "markdown",
   "id": "baa55e7b",
   "metadata": {},
   "source": [
    "for with else?"
   ]
  },
  {
   "cell_type": "markdown",
   "id": "b06beacb",
   "metadata": {},
   "source": [
    "### List"
   ]
  },
  {
   "cell_type": "code",
   "execution_count": 36,
   "id": "4e1874de",
   "metadata": {},
   "outputs": [
    {
     "name": "stdout",
     "output_type": "stream",
     "text": [
      "papaya\n"
     ]
    }
   ],
   "source": [
    "list = [\"apple\", \"papaya\", \"banana\", \"orange\"]\n",
    "\n",
    "print(list[1])"
   ]
  },
  {
   "cell_type": "code",
   "execution_count": 37,
   "id": "81bd1dd2",
   "metadata": {},
   "outputs": [
    {
     "name": "stdout",
     "output_type": "stream",
     "text": [
      "orange\n"
     ]
    }
   ],
   "source": [
    "list = [\"apple\", \"papaya\", \"banana\", \"orange\"]\n",
    "\n",
    "print(list[1+2])"
   ]
  },
  {
   "cell_type": "code",
   "execution_count": 38,
   "id": "9a64d52c",
   "metadata": {},
   "outputs": [
    {
     "name": "stdout",
     "output_type": "stream",
     "text": [
      "banana\n"
     ]
    }
   ],
   "source": [
    "list = [\"apple\", \"papaya\", \"banana\", \"orange\"]\n",
    "\n",
    "print(list[-2])"
   ]
  },
  {
   "cell_type": "code",
   "execution_count": 40,
   "id": "f673ae62",
   "metadata": {},
   "outputs": [
    {
     "name": "stdout",
     "output_type": "stream",
     "text": [
      "papaya\n"
     ]
    }
   ],
   "source": [
    "list = [\"apple\", \"papaya\", \"banana\", \"orange\"]\n",
    "\n",
    "print(list[3-6])"
   ]
  },
  {
   "cell_type": "code",
   "execution_count": 45,
   "id": "93f37af2",
   "metadata": {},
   "outputs": [
    {
     "name": "stdout",
     "output_type": "stream",
     "text": [
      "['Subaru']\n"
     ]
    }
   ],
   "source": [
    "manufacturer = [\"Honda\", \"Toyota\", \"Nissan\", \n",
    "                \"Mazda\", \"Subaru\", \"Mitsubishi\"]\n",
    "\n",
    "print(manufacturer[4:5])"
   ]
  },
  {
   "cell_type": "code",
   "execution_count": 47,
   "id": "1ee47772",
   "metadata": {},
   "outputs": [
    {
     "name": "stdout",
     "output_type": "stream",
     "text": [
      "['Honda', 'Toyota', 'Nissan']\n"
     ]
    }
   ],
   "source": [
    "manufacturer = [\"Honda\", \"Toyota\", \"Nissan\", \n",
    "                \"Mazda\", \"Subaru\", \"Mitsubishi\"]\n",
    "\n",
    "print(manufacturer[:3])"
   ]
  },
  {
   "cell_type": "markdown",
   "id": "41c85606",
   "metadata": {},
   "source": [
    "pop"
   ]
  },
  {
   "cell_type": "code",
   "execution_count": 56,
   "id": "dc44286f",
   "metadata": {},
   "outputs": [
    {
     "name": "stdout",
     "output_type": "stream",
     "text": [
      "P'Kaning\n"
     ]
    }
   ],
   "source": [
    "queue = [\"P'Kaning\", \"P'Karn\", \"P'Petong\"]\n",
    "\n",
    "print(queue.pop(0))"
   ]
  }
 ],
 "metadata": {
  "kernelspec": {
   "display_name": "Python 3",
   "language": "python",
   "name": "python3"
  },
  "language_info": {
   "codemirror_mode": {
    "name": "ipython",
    "version": 3
   },
   "file_extension": ".py",
   "mimetype": "text/x-python",
   "name": "python",
   "nbconvert_exporter": "python",
   "pygments_lexer": "ipython3",
   "version": "3.13.2"
  }
 },
 "nbformat": 4,
 "nbformat_minor": 5
}
