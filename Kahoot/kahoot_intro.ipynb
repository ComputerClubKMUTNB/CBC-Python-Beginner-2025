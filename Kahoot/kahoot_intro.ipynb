{
 "cells": [
  {
   "cell_type": "markdown",
   "id": "a79a73e9",
   "metadata": {},
   "source": [
    "# Kahoot Introduction"
   ]
  },
  {
   "cell_type": "code",
   "execution_count": null,
   "id": "dece3ed4",
   "metadata": {},
   "outputs": [],
   "source": [
    "x = 8.5"
   ]
  },
  {
   "cell_type": "code",
   "execution_count": null,
   "id": "b3d47143",
   "metadata": {},
   "outputs": [],
   "source": [
    "print(Hello World!)"
   ]
  },
  {
   "cell_type": "code",
   "execution_count": null,
   "id": "a8105226",
   "metadata": {},
   "outputs": [],
   "source": [
    "d = 20\n",
    "print(f\"I have {d} dollars\")"
   ]
  },
  {
   "cell_type": "code",
   "execution_count": 1,
   "id": "09ad0b39",
   "metadata": {},
   "outputs": [
    {
     "name": "stdout",
     "output_type": "stream",
     "text": [
      "อดกินข้าว ใครที่โหล่\n"
     ]
    }
   ],
   "source": [
    "x = \"ใครที่โหล่\"\n",
    "y = \"อดกินข้าว\"\n",
    "\n",
    "print(y, x)"
   ]
  },
  {
   "cell_type": "code",
   "execution_count": null,
   "id": "a6aa1c11",
   "metadata": {},
   "outputs": [
    {
     "name": "stdout",
     "output_type": "stream",
     "text": [
      "สวัสดีครับ\n"
     ]
    }
   ],
   "source": [
    "phrase = \"หวัดดีคับ\"\n",
    "phrase = \"สวัสดีครับ\"\n",
    "\n",
    "print(phrase)"
   ]
  },
  {
   "cell_type": "code",
   "execution_count": null,
   "id": "f825a651",
   "metadata": {},
   "outputs": [],
   "source": [
    "string = \"Is this a pen?\"\n",
    "\n",
    "print(\"ปากกาบ่นิ\")"
   ]
  },
  {
   "cell_type": "code",
   "execution_count": 3,
   "id": "4e943bea",
   "metadata": {},
   "outputs": [
    {
     "name": "stdout",
     "output_type": "stream",
     "text": [
      "<class 'float'>\n"
     ]
    }
   ],
   "source": [
    "x = 8.9\n",
    "\n",
    "print(type(x))"
   ]
  },
  {
   "cell_type": "code",
   "execution_count": 4,
   "id": "cd87107e",
   "metadata": {},
   "outputs": [
    {
     "name": "stdout",
     "output_type": "stream",
     "text": [
      "<class 'str'>\n"
     ]
    }
   ],
   "source": [
    "x = \"8.9\"\n",
    "\n",
    "print(type(x))"
   ]
  },
  {
   "cell_type": "code",
   "execution_count": 5,
   "id": "7f903561",
   "metadata": {},
   "outputs": [
    {
     "name": "stdout",
     "output_type": "stream",
     "text": [
      "Your input is: hi\n"
     ]
    }
   ],
   "source": [
    "my_input = input()\n",
    "\n",
    "print(\"Your input is:\", my_input)"
   ]
  },
  {
   "cell_type": "code",
   "execution_count": 6,
   "id": "7e799e87",
   "metadata": {},
   "outputs": [
    {
     "name": "stdout",
     "output_type": "stream",
     "text": [
      "3.0\n"
     ]
    }
   ],
   "source": [
    "a = 5 + 4 - 3 * 2 / 1\n",
    "\n",
    "print(a)"
   ]
  }
 ],
 "metadata": {
  "kernelspec": {
   "display_name": "Python 3",
   "language": "python",
   "name": "python3"
  },
  "language_info": {
   "codemirror_mode": {
    "name": "ipython",
    "version": 3
   },
   "file_extension": ".py",
   "mimetype": "text/x-python",
   "name": "python",
   "nbconvert_exporter": "python",
   "pygments_lexer": "ipython3",
   "version": "3.13.2"
  }
 },
 "nbformat": 4,
 "nbformat_minor": 5
}
