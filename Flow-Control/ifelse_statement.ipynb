{
 "cells": [
  {
   "cell_type": "markdown",
   "id": "3a533c4e",
   "metadata": {},
   "source": [
    "# Python if...else Statement"
   ]
  },
  {
   "cell_type": "code",
   "execution_count": 4,
   "id": "8daf3e9c",
   "metadata": {},
   "outputs": [],
   "source": [
    "# if CONDITION:\n",
    "#     action of if statement\n",
    "\n",
    "# CODE AFTER IF"
   ]
  },
  {
   "cell_type": "code",
   "execution_count": 6,
   "id": "1283a8e6",
   "metadata": {},
   "outputs": [
    {
     "name": "stdout",
     "output_type": "stream",
     "text": [
      "Do if statement\n",
      "Out of if statement\n"
     ]
    }
   ],
   "source": [
    "condition = True\n",
    "\n",
    "if condition:\n",
    "    print(\"Do if statement\")\n",
    "\n",
    "print(\"Out of if statement\")"
   ]
  },
  {
   "cell_type": "code",
   "execution_count": 3,
   "id": "4704dc61",
   "metadata": {},
   "outputs": [
    {
     "name": "stdout",
     "output_type": "stream",
     "text": [
      "Out of if statement\n"
     ]
    }
   ],
   "source": [
    "condition = False\n",
    "\n",
    "if condition:\n",
    "    print(\"Do if statement\")\n",
    "\n",
    "print(\"Out of if statement\")"
   ]
  },
  {
   "cell_type": "code",
   "execution_count": 7,
   "id": "cd155fd7",
   "metadata": {},
   "outputs": [
    {
     "name": "stdout",
     "output_type": "stream",
     "text": [
      "1 is greater than 0\n",
      "This message is after IF statement\n"
     ]
    }
   ],
   "source": [
    "x = 1\n",
    "\n",
    "#if statement\n",
    "if x > 0:\n",
    "    print(f'{x} is greater than 0')\n",
    "\n",
    "#always execute\n",
    "print(\"This message is after IF statement\")"
   ]
  },
  {
   "cell_type": "code",
   "execution_count": 42,
   "id": "181b64f4",
   "metadata": {},
   "outputs": [
    {
     "name": "stdout",
     "output_type": "stream",
     "text": [
      "This message is after IF statement\n"
     ]
    }
   ],
   "source": [
    "x = -1\n",
    "\n",
    "#if statement\n",
    "if x > 0:\n",
    "    print(f'{x} is greater than 0')\n",
    "\n",
    "#always execute\n",
    "print(\"This message is after IF statement\")"
   ]
  },
  {
   "cell_type": "code",
   "execution_count": 43,
   "id": "33be2d6c",
   "metadata": {},
   "outputs": [],
   "source": [
    "# if CONDITION:\n",
    "#     action of if statement\n",
    "# else:\n",
    "#     action of else statement"
   ]
  },
  {
   "cell_type": "code",
   "execution_count": 44,
   "id": "0782c06c",
   "metadata": {},
   "outputs": [
    {
     "name": "stdout",
     "output_type": "stream",
     "text": [
      "Condition is True\n"
     ]
    }
   ],
   "source": [
    "condition = True\n",
    "\n",
    "#if statement\n",
    "if condition:\n",
    "    print(\"Condition is True\")\n",
    "else:\n",
    "    print(\"Condition is False\")"
   ]
  },
  {
   "cell_type": "code",
   "execution_count": 45,
   "id": "143ae145",
   "metadata": {},
   "outputs": [
    {
     "name": "stdout",
     "output_type": "stream",
     "text": [
      "Condition is False\n"
     ]
    }
   ],
   "source": [
    "condition = False\n",
    "\n",
    "#if statement\n",
    "if condition:\n",
    "    print(\"Condition is True\")\n",
    "else:\n",
    "    print(\"Condition is False\")"
   ]
  },
  {
   "cell_type": "code",
   "execution_count": 1,
   "id": "b408e1e5",
   "metadata": {},
   "outputs": [
    {
     "name": "stdout",
     "output_type": "stream",
     "text": [
      "Real\n",
      "This message is after IF ELSE statement\n"
     ]
    }
   ],
   "source": [
    "x = True\n",
    "\n",
    "#if statement\n",
    "if x:\n",
    "    print(\"Real\")\n",
    "else:\n",
    "    print(\"Fake\")\n",
    "\n",
    "#always execute\n",
    "print(\"This message is after IF ELSE statement\")"
   ]
  },
  {
   "cell_type": "code",
   "execution_count": 12,
   "id": "6072c251",
   "metadata": {},
   "outputs": [
    {
     "name": "stdout",
     "output_type": "stream",
     "text": [
      "Your integer (5) is greater than or equal to 0\n"
     ]
    }
   ],
   "source": [
    "x = int(input(\"Enter an integer\"))\n",
    "\n",
    "#if statement\n",
    "if x >= 0:\n",
    "    print(f'Your integer ({x}) is greater than or equal to 0')\n",
    "else:\n",
    "    print(f'Your integer ({x}) is less than 0')"
   ]
  },
  {
   "cell_type": "code",
   "execution_count": null,
   "id": "4f637834",
   "metadata": {},
   "outputs": [
    {
     "name": "stdout",
     "output_type": "stream",
     "text": [
      "Integer A (69) is greater than integer (49)\n"
     ]
    }
   ],
   "source": [
    "a = int(input(\"Enter an integer A\"))\n",
    "b = int(input(\"Enter an integer B\"))\n",
    "\n",
    "#if statement\n",
    "if a > b:\n",
    "    print(f\"Integer A ({a}) is greater than integer B ({b})\")\n",
    "else:\n",
    "    print(f\"Integer B ({b}) is greater than integer A ({a})\")"
   ]
  },
  {
   "cell_type": "code",
   "execution_count": 5,
   "id": "2c1c49a7",
   "metadata": {},
   "outputs": [
    {
     "name": "stdout",
     "output_type": "stream",
     "text": [
      "1 Pen Lek Kee\n"
     ]
    }
   ],
   "source": [
    "n = int(input(\"Enter a Tua Lek\"))\n",
    "\n",
    "#if statement\n",
    "if n == 0:\n",
    "    print(f\"{n} Pen Lek Kuu\")\n",
    "elif n == 1:\n",
    "    print(f\"{n} Pen Lek Kee\")\n",
    "elif n == 2:\n",
    "    print(f\"{n} Pen Lek Kuu\")\n",
    "elif n == 3:\n",
    "    print(f\"{n} Pen Lek Kee\")\n",
    "    # .\n",
    "    # .\n",
    "    # .\n",
    "elif n == 99:\n",
    "    print(f\"{n} Pen Lek Kee\")"
   ]
  },
  {
   "cell_type": "code",
   "execution_count": 6,
   "id": "66a690e6",
   "metadata": {},
   "outputs": [
    {
     "name": "stdout",
     "output_type": "stream",
     "text": [
      "1024 Pen Lek Kuu\n"
     ]
    }
   ],
   "source": [
    "n = int(input(\"Enter a Tua Lek\"))\n",
    "\n",
    "#if statement\n",
    "if n % 2 == 1:\n",
    "    print(f\"{n} Pen Lek Kee\")\n",
    "    \n",
    "else:\n",
    "    print(f\"{n} Pen Lek Kuu\")"
   ]
  },
  {
   "cell_type": "code",
   "execution_count": null,
   "id": "1f05b727",
   "metadata": {},
   "outputs": [],
   "source": [
    "# if CONDITION_1:\n",
    "#     action of if statement\n",
    "\n",
    "# elif CONDITION_2:\n",
    "#     action of elif statement\n",
    "\n",
    "# else:\n",
    "#     action of else statement"
   ]
  },
  {
   "cell_type": "code",
   "execution_count": 8,
   "id": "4ee4bba5",
   "metadata": {},
   "outputs": [
    {
     "name": "stdout",
     "output_type": "stream",
     "text": [
      "Your integer (123) is a positive number\n"
     ]
    }
   ],
   "source": [
    "x = int(input(\"Enter an integer\"))\n",
    "\n",
    "#if statement\n",
    "if x > 0:\n",
    "    print(f'Your integer ({x}) is a positive number')\n",
    "\n",
    "elif x == 0:\n",
    "    print(f'Your integer ({x}) is equal to 0')\n",
    "    \n",
    "else:\n",
    "    print(f'Your integer ({x}) is a negative number')"
   ]
  },
  {
   "cell_type": "code",
   "execution_count": 9,
   "id": "4e72fde0",
   "metadata": {},
   "outputs": [
    {
     "name": "stdout",
     "output_type": "stream",
     "text": [
      "Your integer (0) is equal to 0\n"
     ]
    }
   ],
   "source": [
    "x = int(input(\"Enter an integer\"))\n",
    "\n",
    "#if statement\n",
    "if x > 0:\n",
    "    print(f'Your integer ({x}) is a positive number')\n",
    "\n",
    "elif x == 0:\n",
    "    print(f'Your integer ({x}) is equal to 0')\n",
    "    \n",
    "else:\n",
    "    print(f'Your integer ({x}) is a negative number')"
   ]
  },
  {
   "cell_type": "code",
   "execution_count": 10,
   "id": "1e379622",
   "metadata": {},
   "outputs": [
    {
     "name": "stdout",
     "output_type": "stream",
     "text": [
      "Your integer (-89) is a negative number\n"
     ]
    }
   ],
   "source": [
    "x = int(input(\"Enter an integer\"))\n",
    "\n",
    "#if statement\n",
    "if x > 0:\n",
    "    print(f'Your integer ({x}) is a positive number')\n",
    "\n",
    "elif x == 0:\n",
    "    print(f'Your integer ({x}) is equal to 0')\n",
    "    \n",
    "elif x < 0:\n",
    "    print(f'Your integer ({x}) is a negative number')"
   ]
  },
  {
   "cell_type": "markdown",
   "id": "c9a57ce5",
   "metadata": {},
   "source": [
    "## Nested if Statement"
   ]
  },
  {
   "cell_type": "code",
   "execution_count": null,
   "id": "65825de5",
   "metadata": {},
   "outputs": [],
   "source": [
    "# if CONDITION_1:\n",
    "#     if CONDITION_2:\n",
    "#         # action of if 2 statement\n",
    "#     else:\n",
    "#         # action of else statement\n",
    "# else:\n",
    "#     # action of else statement"
   ]
  },
  {
   "cell_type": "code",
   "execution_count": null,
   "id": "5c490041",
   "metadata": {},
   "outputs": [],
   "source": [
    "if condition_1:\n",
    "    if condition_2:\n",
    "        #code\n",
    "    else:\n",
    "        #code\n",
    "else:\n",
    "    #code"
   ]
  },
  {
   "cell_type": "code",
   "execution_count": 19,
   "id": "8908ac08",
   "metadata": {},
   "outputs": [
    {
     "name": "stdout",
     "output_type": "stream",
     "text": [
      "-100 is a negative even number\n"
     ]
    }
   ],
   "source": [
    "x = int(input(\"Enter an integer\"))\n",
    "\n",
    "#if statement\n",
    "if x > 0:\n",
    "    #if statement\n",
    "    if x % 2 == 1:\n",
    "        print(f'{x} is a positive odd number')\n",
    "    \n",
    "    else:\n",
    "        print(f'{x} is a positive even number')\n",
    "\n",
    "elif x == 0:\n",
    "    print(f\"{x} is equal to 0\")\n",
    "\n",
    "else:\n",
    "    #if statement\n",
    "    if x % 2 == 1:\n",
    "        print(f'{x} is a negative odd number')\n",
    "    \n",
    "    else:\n",
    "        print(f'{x} is a negative even number')"
   ]
  },
  {
   "cell_type": "markdown",
   "id": "a9470977",
   "metadata": {},
   "source": [
    "## Advanced Condition"
   ]
  },
  {
   "cell_type": "code",
   "execution_count": 22,
   "id": "0269f256",
   "metadata": {},
   "outputs": [],
   "source": [
    "condition = True\n",
    "\n",
    "# ! Don't do this\n",
    "if condition == True:\n",
    "    pass\n",
    "\n",
    "# * Do this\n",
    "if condition:\n",
    "    pass"
   ]
  },
  {
   "cell_type": "code",
   "execution_count": null,
   "id": "f591a593",
   "metadata": {},
   "outputs": [],
   "source": [
    "condition = True\n",
    "\n",
    "# ! Don't do this\n",
    "if condition == True:\n",
    "    pass\n",
    "\n",
    "# * Do this\n",
    "if condition:\n",
    "    pass"
   ]
  },
  {
   "cell_type": "code",
   "execution_count": null,
   "id": "17631a19",
   "metadata": {},
   "outputs": [],
   "source": [
    "condition = False\n",
    "\n",
    "# ! Don't do this\n",
    "if condition == False:\n",
    "    pass\n",
    "\n",
    "# * Do this\n",
    "if not condition:\n",
    "    pass"
   ]
  },
  {
   "cell_type": "code",
   "execution_count": null,
   "id": "bf20e08b",
   "metadata": {},
   "outputs": [],
   "source": [
    "score = 80\n",
    "\n",
    "# ! Don't Do This\n",
    "if score >= 80:\n",
    "    print(\"A\")\n",
    "elif score < 80 and score >= 75:\n",
    "    print(\"B+\")\n",
    "elif score < 75 and score >= 70:\n",
    "    print(\"B\")\n",
    "elif score < 70 and score >= 65:\n",
    "    print(\"C+\")\n",
    "elif score < 65 and score >= 60:\n",
    "    print(\"C\")\n",
    "elif score < 60 and score >= 55:\n",
    "    print(\"D+\")\n",
    "elif score < 55 and score >= 50:\n",
    "    print(\"D\")\n",
    "elif 50 > score >= 0:\n",
    "    print(\"F\")\n",
    "\n",
    "# * Do This\n",
    "if score >= 80:\n",
    "    print(\"A\")\n",
    "elif score >= 75:\n",
    "    print(\"B+\")\n",
    "elif score >= 70:\n",
    "    print(\"B\")\n",
    "elif score >= 65:\n",
    "    print(\"C+\")\n",
    "elif score >= 60:\n",
    "    print(\"C\")\n",
    "elif score >= 55:\n",
    "    print(\"D+\")\n",
    "elif score >= 50:\n",
    "    print(\"D\")\n",
    "else:\n",
    "    print(\"F\")"
   ]
  },
  {
   "cell_type": "markdown",
   "id": "7484d9ce",
   "metadata": {},
   "source": [
    "## pass Statement"
   ]
  },
  {
   "cell_type": "code",
   "execution_count": 3,
   "id": "a6de7dea",
   "metadata": {},
   "outputs": [],
   "source": [
    "#pass Syntax\n",
    "pass"
   ]
  },
  {
   "cell_type": "code",
   "execution_count": 14,
   "id": "091d0c4d",
   "metadata": {},
   "outputs": [
    {
     "name": "stdout",
     "output_type": "stream",
     "text": [
      "This message is outside if statement\n"
     ]
    }
   ],
   "source": [
    "condition = True\n",
    "\n",
    "#if statement\n",
    "if condition:\n",
    "    pass\n",
    "\n",
    "print(\"This message is outside if statement\")"
   ]
  },
  {
   "cell_type": "code",
   "execution_count": 16,
   "id": "11a7f0ed",
   "metadata": {},
   "outputs": [
    {
     "name": "stdout",
     "output_type": "stream",
     "text": [
      "This message is outside if statement\n"
     ]
    }
   ],
   "source": [
    "condition = True\n",
    "\n",
    "#if statement\n",
    "if condition:\n",
    "    pass\n",
    "else:\n",
    "    print(\"Condition is False\")\n",
    "\n",
    "print(\"This message is outside if statement\")"
   ]
  },
  {
   "cell_type": "code",
   "execution_count": null,
   "id": "7f3f02e2",
   "metadata": {},
   "outputs": [
    {
     "ename": "_IncompleteInputError",
     "evalue": "incomplete input (1524254395.py, line 3)",
     "output_type": "error",
     "traceback": [
      "  \u001b[36mCell\u001b[39m\u001b[36m \u001b[39m\u001b[32mIn[24]\u001b[39m\u001b[32m, line 3\u001b[39m\n\u001b[31m    \u001b[39m\n    ^\n\u001b[31m_IncompleteInputError\u001b[39m\u001b[31m:\u001b[39m incomplete input\n"
     ]
    }
   ],
   "source": [
    "# ! _IncompleteInputError\n",
    "def unfinishedFunction(args):\n",
    "    "
   ]
  },
  {
   "cell_type": "code",
   "execution_count": 34,
   "id": "c7d5a3c2",
   "metadata": {},
   "outputs": [],
   "source": [
    "def unfinishedFunction(args):\n",
    "    pass"
   ]
  },
  {
   "cell_type": "code",
   "execution_count": null,
   "id": "7d708e23",
   "metadata": {},
   "outputs": [
    {
     "ename": "_IncompleteInputError",
     "evalue": "incomplete input (2991130402.py, line 3)",
     "output_type": "error",
     "traceback": [
      "  \u001b[36mCell\u001b[39m\u001b[36m \u001b[39m\u001b[32mIn[33]\u001b[39m\u001b[32m, line 3\u001b[39m\n\u001b[31m    \u001b[39m\n    ^\n\u001b[31m_IncompleteInputError\u001b[39m\u001b[31m:\u001b[39m incomplete input\n"
     ]
    }
   ],
   "source": [
    "# ! _IncompleteInputError\n",
    "class UnfinishedClass:\n",
    "    "
   ]
  },
  {
   "cell_type": "code",
   "execution_count": 35,
   "id": "8a7d8513",
   "metadata": {},
   "outputs": [],
   "source": [
    "class UnfinishedClass:\n",
    "    pass"
   ]
  }
 ],
 "metadata": {
  "kernelspec": {
   "display_name": "Python 3",
   "language": "python",
   "name": "python3"
  },
  "language_info": {
   "codemirror_mode": {
    "name": "ipython",
    "version": 3
   },
   "file_extension": ".py",
   "mimetype": "text/x-python",
   "name": "python",
   "nbconvert_exporter": "python",
   "pygments_lexer": "ipython3",
   "version": "3.13.2"
  }
 },
 "nbformat": 4,
 "nbformat_minor": 5
}
