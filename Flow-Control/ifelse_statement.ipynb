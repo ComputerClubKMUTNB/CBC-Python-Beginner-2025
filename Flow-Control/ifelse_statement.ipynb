{
 "cells": [
  {
   "cell_type": "markdown",
   "id": "3a533c4e",
   "metadata": {},
   "source": [
    "Python if...else Statement"
   ]
  },
  {
   "cell_type": "code",
   "execution_count": null,
   "id": "8daf3e9c",
   "metadata": {},
   "outputs": [],
   "source": [
    "# if CONDITION:\n",
    "#     action of if statement\n",
    "\n",
    "# CODE AFTER IF"
   ]
  },
  {
   "cell_type": "code",
   "execution_count": null,
   "id": "cd155fd7",
   "metadata": {},
   "outputs": [
    {
     "name": "stdout",
     "output_type": "stream",
     "text": [
      "1 is greater than 0\n",
      "This message is after IF statement\n"
     ]
    }
   ],
   "source": [
    "x = 1\n",
    "\n",
    "#if statement\n",
    "if x > 0:\n",
    "    print(f'{x} is greater than 0')\n",
    "\n",
    "#always execute\n",
    "print(\"This message is after IF statement\")"
   ]
  },
  {
   "cell_type": "code",
   "execution_count": null,
   "id": "181b64f4",
   "metadata": {},
   "outputs": [
    {
     "name": "stdout",
     "output_type": "stream",
     "text": [
      "This message is after IF statement\n"
     ]
    }
   ],
   "source": [
    "x = -1\n",
    "\n",
    "#if statement\n",
    "if x > 0:\n",
    "    print(f'{x} is greater than 0')\n",
    "\n",
    "#always execute\n",
    "print(\"This message is after IF statement\")"
   ]
  },
  {
   "cell_type": "code",
   "execution_count": null,
   "id": "33be2d6c",
   "metadata": {},
   "outputs": [],
   "source": [
    "# if CONDITION_1:\n",
    "#     action of if statement\n",
    "# else:\n",
    "#     action of else statement"
   ]
  },
  {
   "cell_type": "code",
   "execution_count": null,
   "id": "6072c251",
   "metadata": {},
   "outputs": [
    {
     "name": "stdout",
     "output_type": "stream",
     "text": [
      "-89 is less than 0\n"
     ]
    }
   ],
   "source": [
    "x = int(input(\"Enter an integer\"))\n",
    "\n",
    "#if statement\n",
    "if x >= 0:\n",
    "    print(f'{x} is greater than or equal to 0')\n",
    "    \n",
    "else:\n",
    "    print(f'{x} is less than 0')"
   ]
  },
  {
   "cell_type": "code",
   "execution_count": null,
   "id": "4f637834",
   "metadata": {},
   "outputs": [
    {
     "name": "stdout",
     "output_type": "stream",
     "text": [
      "-8 is greater than -9\n"
     ]
    }
   ],
   "source": [
    "a = int(input(\"Enter an integer\"))\n",
    "b = int(input(\"Enter an integer\"))\n",
    "\n",
    "#if statement\n",
    "if a > b:\n",
    "    print(f\"{a} is greater than {b}\")\n",
    "else:\n",
    "    print(f\"{b} is greater than {a}\")"
   ]
  },
  {
   "cell_type": "code",
   "execution_count": null,
   "id": "b408e1e5",
   "metadata": {},
   "outputs": [
    {
     "name": "stdout",
     "output_type": "stream",
     "text": [
      "Real\n",
      "This message is after IF ELSE statement\n"
     ]
    }
   ],
   "source": [
    "x = True\n",
    "\n",
    "#if statement\n",
    "if x == True:\n",
    "    print(\"Real\")\n",
    "    \n",
    "else:\n",
    "    print(\"Fake\")\n",
    "\n",
    "#always execute\n",
    "print(\"This message is after IF ELSE statement\")"
   ]
  },
  {
   "cell_type": "code",
   "execution_count": null,
   "id": "66a690e6",
   "metadata": {},
   "outputs": [
    {
     "name": "stdout",
     "output_type": "stream",
     "text": [
      "y pen lek kuu\n"
     ]
    }
   ],
   "source": [
    "y = int(input(\"Enter a tua lek\"))\n",
    "\n",
    "#if statement\n",
    "if y % 2 == 1:\n",
    "    print(\"y pen lek kee\")\n",
    "    \n",
    "else:\n",
    "    print(\"y pen lek kuu\")"
   ]
  },
  {
   "cell_type": "code",
   "execution_count": null,
   "id": "1f05b727",
   "metadata": {},
   "outputs": [],
   "source": [
    "# if CONDITION_1:\n",
    "#     action of if statement\n",
    "\n",
    "# elif CONDITION_2:\n",
    "#     action of elif statement\n",
    "\n",
    "# else:\n",
    "#     action of else statement"
   ]
  },
  {
   "cell_type": "code",
   "execution_count": null,
   "id": "4ee4bba5",
   "metadata": {},
   "outputs": [
    {
     "name": "stdout",
     "output_type": "stream",
     "text": [
      "0 is equal to 0\n"
     ]
    }
   ],
   "source": [
    "x = int(input(\"Enter an integer\"))\n",
    "\n",
    "#if statement\n",
    "if x > 0:\n",
    "    print(f'{x} is a positive number')\n",
    "\n",
    "elif x == 0:\n",
    "    print(f'{x} is equal to 0')\n",
    "    \n",
    "else:\n",
    "    print(f'{x} is a negative number')"
   ]
  },
  {
   "cell_type": "code",
   "execution_count": null,
   "id": "1e379622",
   "metadata": {},
   "outputs": [
    {
     "name": "stdout",
     "output_type": "stream",
     "text": [
      "0 is equal to 0\n"
     ]
    }
   ],
   "source": [
    "x = int(input(\"Enter an integer\"))\n",
    "\n",
    "#if statement\n",
    "if x > 0:\n",
    "    print(f'{x} is a positive number')\n",
    "\n",
    "elif x == 0:\n",
    "    print(f'{x} is equal to 0')\n",
    "    \n",
    "elif x < 0:\n",
    "    print(f'{x} is a negative number')"
   ]
  },
  {
   "cell_type": "code",
   "execution_count": null,
   "id": "65825de5",
   "metadata": {},
   "outputs": [],
   "source": [
    "#nested if statement\n",
    "\n",
    "# if CONDITION_1:\n",
    "#     if CONDITION_1.1:\n",
    "#         action of if 1.1 statement\n",
    "\n",
    "#     else:\n",
    "#         action of else statement\n",
    "\n",
    "# else:\n",
    "#     action of else statement"
   ]
  },
  {
   "cell_type": "code",
   "execution_count": null,
   "id": "8908ac08",
   "metadata": {},
   "outputs": [
    {
     "name": "stdout",
     "output_type": "stream",
     "text": [
      "-99 is a negative odd number\n"
     ]
    }
   ],
   "source": [
    "x = int(input(\"Enter an integer\"))\n",
    "\n",
    "#if statement\n",
    "if x > 0:\n",
    "    #if statement\n",
    "    if x % 2 == 1:\n",
    "        print(f'{x} is a positive odd number')\n",
    "    \n",
    "    else:\n",
    "        print(f'{x} is a positive even number')\n",
    "\n",
    "elif x == 0:\n",
    "    print(f\"{x} is equal to 0\")\n",
    "\n",
    "else:\n",
    "    #if statement\n",
    "    if x % 2 == 1:\n",
    "        print(f'{x} is a negative odd number')\n",
    "    \n",
    "    else:\n",
    "        print(f'{x} is a negative even number')"
   ]
  }
 ],
 "metadata": {
  "kernelspec": {
   "display_name": "Python 3",
   "language": "python",
   "name": "python3"
  },
  "language_info": {
   "codemirror_mode": {
    "name": "ipython",
    "version": 3
   },
   "file_extension": ".py",
   "mimetype": "text/x-python",
   "name": "python",
   "nbconvert_exporter": "python",
   "pygments_lexer": "ipython3",
   "version": "3.13.2"
  }
 },
 "nbformat": 4,
 "nbformat_minor": 5
}
