{
 "cells": [
  {
   "cell_type": "markdown",
   "id": "25af2e1b",
   "metadata": {},
   "source": [
    "## Exercise If Else"
   ]
  },
  {
   "cell_type": "markdown",
   "id": "75b03003",
   "metadata": {},
   "source": [
    "### Exercise 4"
   ]
  },
  {
   "cell_type": "code",
   "execution_count": 1,
   "id": "9d271dc8",
   "metadata": {},
   "outputs": [
    {
     "name": "stdout",
     "output_type": "stream",
     "text": [
      "-- Check Divisible by 7 and Multiples of 5  Program ---\n",
      "1575 can Divisible by 7 and Multiples of 5\n"
     ]
    }
   ],
   "source": [
    "print(\"-- Check Divisible by 7 and Multiples of 5  Program ---\")\n",
    "number_to_check = int(input(\"Enter the number that you want to check:\"))\n",
    "\n",
    "if number_to_check % 7 == 0 and number_to_check % 5 == 0:\n",
    "    print(f\"{number_to_check} can Divisible by 7 and Multiples of 5\")\n",
    "else:\n",
    "    print(f\"{number_to_check} can not Divisible by 7 and Multiples of 5\")"
   ]
  },
  {
   "cell_type": "markdown",
   "id": "133e5941",
   "metadata": {},
   "source": [
    "### Exercise5"
   ]
  },
  {
   "cell_type": "code",
   "execution_count": 4,
   "id": "a69f24bc",
   "metadata": {},
   "outputs": [
    {
     "name": "stdout",
     "output_type": "stream",
     "text": [
      "2024 is leap year\n"
     ]
    }
   ],
   "source": [
    "year = int(input(\"Enter the year that you want to check leap year:\"))\n",
    "\n",
    "if year % 400 == 0:\n",
    "    print(f\"{year} is leap year\")\n",
    "else:\n",
    "    if year % 100 == 0:\n",
    "        print(f\"{year} is not leap year\")\n",
    "    elif year % 4 == 0:\n",
    "        print(f\"{year} is leap year\")\n",
    "    else:\n",
    "        print(f\"{year} is not leap year\")"
   ]
  },
  {
   "cell_type": "code",
   "execution_count": null,
   "id": "6b12209b",
   "metadata": {},
   "outputs": [],
   "source": [
    "year = int(input(\"Enter the year that you want to check leap year:\"))\n",
    "\n",
    "if (year % 400 == 0) or (year % 100 != 0 and year % 4 == 0):\n",
    "    print(f\"{year} is leap year\")\n",
    "else:\n",
    "    print(f\"{year} is not leap year\")"
   ]
  },
  {
   "cell_type": "markdown",
   "id": "20ab626b",
   "metadata": {},
   "source": [
    "### Exercise6"
   ]
  },
  {
   "cell_type": "code",
   "execution_count": 6,
   "id": "3567d211",
   "metadata": {},
   "outputs": [
    {
     "name": "stdout",
     "output_type": "stream",
     "text": [
      "The dog's age in dog's years is 49\n"
     ]
    }
   ],
   "source": [
    "h_age = int(input(\"Input a dog's age in human years: \"))\n",
    "\n",
    "if h_age <= 2:\n",
    "    d_age = h_age * 10.5\n",
    "else:\n",
    "    # 21 = 10.5 * 2 (fist 2 year)\n",
    "    d_age = 21 + (h_age - 2) * 4\n",
    "\n",
    "print(\"The dog's age in dog's years is\", d_age)"
   ]
  },
  {
   "cell_type": "markdown",
   "id": "f64a9836",
   "metadata": {},
   "source": [
    "### Exercise7"
   ]
  },
  {
   "cell_type": "code",
   "execution_count": 9,
   "id": "5542d223",
   "metadata": {},
   "outputs": [
    {
     "name": "stdout",
     "output_type": "stream",
     "text": [
      "\n",
      "1\n",
      "22\n",
      "333\n",
      "4444\n",
      "55555\n"
     ]
    }
   ],
   "source": [
    "range_of_number = int(input(\"Enter rang of number that you want to print the following pattern:\"))\n",
    "\n",
    "for number in range(range_of_number + 1):\n",
    "    for _ in range(number):\n",
    "        print(number, end=\"\")\n",
    "    print()"
   ]
  },
  {
   "cell_type": "markdown",
   "id": "6db918dc",
   "metadata": {},
   "source": [
    "### Exercise8"
   ]
  },
  {
   "cell_type": "code",
   "execution_count": 27,
   "id": "fa9951b5",
   "metadata": {},
   "outputs": [
    {
     "name": "stdout",
     "output_type": "stream",
     "text": [
      "41\n",
      "43\n",
      "47\n",
      "53\n",
      "59\n",
      "61\n",
      "67\n"
     ]
    }
   ],
   "source": [
    "# start = 41\n",
    "# end = 67\n",
    "start = int(input(\"Enter start number:\"))\n",
    "end = int(input(\"Enter end number:\"))\n",
    "\n",
    "for number in range(start, end + 1):\n",
    "\n",
    "    for n in range(2, number):\n",
    "        if number % n == 0:\n",
    "            break\n",
    "    else:\n",
    "        print(number)"
   ]
  },
  {
   "cell_type": "code",
   "execution_count": 20,
   "id": "b1156600",
   "metadata": {},
   "outputs": [
    {
     "name": "stdout",
     "output_type": "stream",
     "text": [
      "5\n",
      "7\n",
      "11\n",
      "13\n",
      "17\n",
      "19\n",
      "23\n",
      "29\n",
      "31\n",
      "37\n",
      "41\n",
      "43\n",
      "47\n",
      "53\n",
      "59\n",
      "61\n",
      "67\n"
     ]
    }
   ],
   "source": [
    "start = 4\n",
    "end = 70\n",
    "\n",
    "def is_prime_number(number):\n",
    "    for n in range(2, number):\n",
    "        if number % n == 0:\n",
    "            return False\n",
    "    return True\n",
    "\n",
    "for number in range(start, end + 1):\n",
    "    if is_prime_number(number=number):\n",
    "        print(number)"
   ]
  },
  {
   "cell_type": "code",
   "execution_count": 29,
   "id": "a6cb52a7",
   "metadata": {},
   "outputs": [],
   "source": [
    "for _ in range(3):\n",
    "    break\n",
    "else:\n",
    "    print(\"Non break Only\")"
   ]
  },
  {
   "cell_type": "code",
   "execution_count": 30,
   "id": "ac37b488",
   "metadata": {},
   "outputs": [
    {
     "name": "stdout",
     "output_type": "stream",
     "text": [
      "0\n",
      "1\n",
      "2\n",
      "Non break Only\n"
     ]
    }
   ],
   "source": [
    "for i in range(3):\n",
    "    print(i)\n",
    "else:\n",
    "    print(\"Non break Only\")"
   ]
  },
  {
   "cell_type": "markdown",
   "id": "3471f59c",
   "metadata": {},
   "source": [
    "### Exercise9"
   ]
  },
  {
   "cell_type": "code",
   "execution_count": null,
   "id": "4b757a17",
   "metadata": {},
   "outputs": [
    {
     "name": "stdout",
     "output_type": "stream",
     "text": [
      "Too low\n",
      "Too low\n",
      "Too low\n",
      "Too low\n",
      "Too low\n",
      "You loss Answer is 4\n"
     ]
    }
   ],
   "source": [
    "import random\n",
    "\n",
    "TIMES_OF_GUESSING = 5\n",
    "\n",
    "answer = random.randint(1, 100)\n",
    "# print(\"Answer =\", answer)\n",
    "\n",
    "current_times_of_guessing = 0\n",
    "\n",
    "while current_times_of_guessing < TIMES_OF_GUESSING:\n",
    "    current_times_of_guessing += 1\n",
    "    guessing_number = int(input(f\"Guess ({current_times_of_guessing}):\"))\n",
    "\n",
    "    if guessing_number == answer:\n",
    "        print(f\"You Win Answer is {guessing_number}\")\n",
    "        break\n",
    "    elif guessing_number >= answer:\n",
    "        print(\"Too high\")\n",
    "    elif guessing_number <= answer:\n",
    "        print(\"Too low\")\n",
    "else:\n",
    "    print(f\"You loss Answer is {answer}\")\n"
   ]
  },
  {
   "cell_type": "markdown",
   "id": "31918a85",
   "metadata": {},
   "source": [
    "### Exercise10"
   ]
  },
  {
   "cell_type": "code",
   "execution_count": null,
   "id": "98878d6d",
   "metadata": {},
   "outputs": [
    {
     "name": "stdout",
     "output_type": "stream",
     "text": [
      "max_number = 22\n"
     ]
    }
   ],
   "source": [
    "list_of_number = []\n",
    "\n",
    "length_of_list = int(input(\"Enter length of list:\"))\n",
    "\n",
    "for _ in range(length_of_list):\n",
    "    number_to_append = int(input(\"Enter number to append:\"))\n",
    "    list_of_number.append(number_to_append)\n",
    "\n",
    "print(\"list_of_number =\",list_of_number)\n",
    "# list_of_number = [8, -5, 22, -3]\n",
    "\n",
    "max_number = list_of_number[0]\n",
    "\n",
    "for i in list_of_number:\n",
    "    if max_number < i:\n",
    "        max_number = i\n",
    "\n",
    "print(\"max_number =\", max_number)"
   ]
  },
  {
   "cell_type": "markdown",
   "id": "fcd460a6",
   "metadata": {},
   "source": [
    "### Exercise11"
   ]
  },
  {
   "cell_type": "code",
   "execution_count": null,
   "id": "4a11f671",
   "metadata": {},
   "outputs": [],
   "source": []
  }
 ],
 "metadata": {
  "kernelspec": {
   "display_name": "Python 3",
   "language": "python",
   "name": "python3"
  },
  "language_info": {
   "codemirror_mode": {
    "name": "ipython",
    "version": 3
   },
   "file_extension": ".py",
   "mimetype": "text/x-python",
   "name": "python",
   "nbconvert_exporter": "python",
   "pygments_lexer": "ipython3",
   "version": "3.9.6"
  }
 },
 "nbformat": 4,
 "nbformat_minor": 5
}
