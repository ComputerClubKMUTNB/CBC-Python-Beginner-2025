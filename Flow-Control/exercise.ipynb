{
 "cells": [
  {
   "cell_type": "markdown",
   "id": "25af2e1b",
   "metadata": {},
   "source": [
    "## Exercise If Else"
   ]
  },
  {
   "cell_type": "markdown",
   "id": "75b03003",
   "metadata": {},
   "source": [
    "### Exercise 4"
   ]
  },
  {
   "cell_type": "code",
   "execution_count": 1,
   "id": "9d271dc8",
   "metadata": {},
   "outputs": [
    {
     "name": "stdout",
     "output_type": "stream",
     "text": [
      "-- Check Divisible by 7 and Multiples of 5  Program ---\n",
      "1575 can Divisible by 7 and Multiples of 5\n"
     ]
    }
   ],
   "source": [
    "print(\"-- Check Divisible by 7 and Multiples of 5  Program ---\")\n",
    "number_to_check = int(input(\"Enter the number that you want to check:\"))\n",
    "\n",
    "if number_to_check % 7 == 0 and number_to_check % 5 == 0:\n",
    "    print(f\"{number_to_check} can Divisible by 7 and Multiples of 5\")\n",
    "else:\n",
    "    print(f\"{number_to_check} can not Divisible by 7 and Multiples of 5\")"
   ]
  },
  {
   "cell_type": "markdown",
   "id": "133e5941",
   "metadata": {},
   "source": [
    "### Exercise5"
   ]
  },
  {
   "cell_type": "code",
   "execution_count": 4,
   "id": "a69f24bc",
   "metadata": {},
   "outputs": [
    {
     "name": "stdout",
     "output_type": "stream",
     "text": [
      "2024 is leap year\n"
     ]
    }
   ],
   "source": [
    "year = int(input(\"Enter the year that you want to check leap year:\"))\n",
    "\n",
    "if year % 400 == 0:\n",
    "    print(f\"{year} is leap year\")\n",
    "else:\n",
    "    if year % 100 == 0:\n",
    "        print(f\"{year} is not leap year\")\n",
    "    elif year % 4 == 0:\n",
    "        print(f\"{year} is leap year\")\n",
    "    else:\n",
    "        print(f\"{year} is not leap year\")"
   ]
  },
  {
   "cell_type": "code",
   "execution_count": null,
   "id": "6b12209b",
   "metadata": {},
   "outputs": [],
   "source": [
    "year = int(input(\"Enter the year that you want to check leap year:\"))\n",
    "\n",
    "if (year % 400 == 0) or (year % 100 != 0 and year % 4 == 0):\n",
    "    print(f\"{year} is leap year\")\n",
    "else:\n",
    "    print(f\"{year} is not leap year\")"
   ]
  },
  {
   "cell_type": "markdown",
   "id": "20ab626b",
   "metadata": {},
   "source": [
    "### Exercise6"
   ]
  },
  {
   "cell_type": "code",
   "execution_count": 6,
   "id": "3567d211",
   "metadata": {},
   "outputs": [
    {
     "name": "stdout",
     "output_type": "stream",
     "text": [
      "The dog's age in dog's years is 49\n"
     ]
    }
   ],
   "source": [
    "h_age = int(input(\"Input a dog's age in human years: \"))\n",
    "\n",
    "if h_age <= 2:\n",
    "    d_age = h_age * 10.5\n",
    "else:\n",
    "    # 21 = 10.5 * 2 (fist 2 year)\n",
    "    d_age = 21 + (h_age - 2) * 4\n",
    "\n",
    "print(\"The dog's age in dog's years is\", d_age)"
   ]
  },
  {
   "cell_type": "markdown",
   "id": "c0148457",
   "metadata": {},
   "source": [
    "## Workshop Day 1"
   ]
  },
  {
   "cell_type": "code",
   "execution_count": null,
   "id": "36c68593",
   "metadata": {},
   "outputs": [
    {
     "name": "stdout",
     "output_type": "stream",
     "text": [
      "salary = 20000 ,income_per_year = 240000\n",
      "tax_rate 5\n",
      "sum_tax = 4500.0\n"
     ]
    }
   ],
   "source": [
    "salary = int(input(\"Enter your salary:\"))\n",
    "income_per_year = salary * 12\n",
    "\n",
    "print(f\"salary = {salary} ,income_per_year = {income_per_year}\")\n",
    "income_per_year -= 60_000\n",
    "\n",
    "tax_rate = 0\n",
    "tax = 0\n",
    "if income_per_year > 5_000_000:\n",
    "    tax_rate = 35\n",
    "    tax = (income_per_year - 5_000_000) * (tax_rate / 100) + 1_265_000\n",
    "elif income_per_year > 2_000_000:\n",
    "    tax_rate = 30\n",
    "    tax = (income_per_year - 2_000_000) * (tax_rate / 100) + 365_000\n",
    "elif income_per_year > 1_000_000:\n",
    "    tax_rate = 25\n",
    "    tax = (income_per_year - 1_000_000) * (tax_rate / 100) + 11500\n",
    "elif income_per_year > 750_000:\n",
    "    tax_rate = 20\n",
    "    tax = (income_per_year - 750_000) * (tax_rate / 100) + 65000\n",
    "elif income_per_year > 500_000:\n",
    "    tax_rate = 15\n",
    "    tax = (income_per_year - 500_000) * (tax_rate / 100) + 27500\n",
    "elif income_per_year > 300_000:\n",
    "    tax_rate = 10\n",
    "    tax = (income_per_year - 300_000) * (tax_rate / 100) + 7500\n",
    "elif income_per_year > 150_000:\n",
    "    tax_rate = 5\n",
    "    tax = (income_per_year - 150_000) * (tax_rate / 100)\n",
    "else:\n",
    "    tax_rate = 0\n",
    "    tax = 0\n",
    "\n",
    "print(\"tax_rate\", tax_rate)\n",
    "print(\"sum_tax =\",tax)"
   ]
  },
  {
   "cell_type": "code",
   "execution_count": 50,
   "id": "b87b9996",
   "metadata": {},
   "outputs": [
    {
     "name": "stdout",
     "output_type": "stream",
     "text": [
      "income_per_year = 360000\n",
      "net_income = 300000\n",
      "(300000 - 150000) x 5% = 7500.0\n",
      "sum_tax = 7500.0\n",
      "------------------------------\n",
      "income_per_year = 552000\n",
      "net_income = 492000\n",
      "(492000 - 300000) x 10% = 19200.0\n",
      "(300000 - 150000) x 5% = 7500.0\n",
      "sum_tax = 26700.0\n",
      "------------------------------\n",
      "income_per_year = 804000\n",
      "net_income = 744000\n",
      "(744000 - 500000) x 15% = 36600.0\n",
      "(500000 - 300000) x 10% = 20000.0\n",
      "(300000 - 150000) x 5% = 7500.0\n",
      "sum_tax = 64100.0\n",
      "------------------------------\n"
     ]
    }
   ],
   "source": [
    "def tax_info(income_per_year):\n",
    "    tax_dict = {\n",
    "        5_000_000: 35,\n",
    "        2_000_000: 30,\n",
    "        1_000_000: 25,\n",
    "        750_000: 20,\n",
    "        500_000: 15,\n",
    "        300_000: 10,\n",
    "        150_000: 5,\n",
    "    }\n",
    "    sum_tax = 0\n",
    "    print(\"income_per_year =\",income_per_year)\n",
    "    income_per_year -= 60_000\n",
    "    print(\"net_income =\",income_per_year)\n",
    "    for income, rate in tax_dict.items():\n",
    "        if income_per_year > income:\n",
    "            print(f\"({income_per_year} - {income}) x {rate}% = {(income_per_year - income) * rate / 100}\")\n",
    "            sum_tax += (income_per_year - income) * rate / 100\n",
    "            # income_per_year = income_per_year - (income_per_year - income)\n",
    "            income_per_year = income\n",
    "    print(\"sum_tax =\",sum_tax)\n",
    "    print(\"-\"*30)\n",
    "tax_info(30_000 * 12)\n",
    "tax_info(46_000 * 12)\n",
    "tax_info(67_000 * 12)"
   ]
  },
  {
   "cell_type": "markdown",
   "id": "f64a9836",
   "metadata": {},
   "source": [
    "### Exercise7"
   ]
  },
  {
   "cell_type": "code",
   "execution_count": 9,
   "id": "5542d223",
   "metadata": {},
   "outputs": [
    {
     "name": "stdout",
     "output_type": "stream",
     "text": [
      "\n",
      "1\n",
      "22\n",
      "333\n",
      "4444\n",
      "55555\n"
     ]
    }
   ],
   "source": [
    "range_of_number = int(input(\"Enter rang of number that you want to print the following pattern:\"))\n",
    "\n",
    "for number in range(range_of_number + 1):\n",
    "    for _ in range(number):\n",
    "        print(number, end=\"\")\n",
    "    print()"
   ]
  },
  {
   "cell_type": "markdown",
   "id": "6db918dc",
   "metadata": {},
   "source": [
    "### Exercise8"
   ]
  },
  {
   "cell_type": "code",
   "execution_count": 27,
   "id": "fa9951b5",
   "metadata": {},
   "outputs": [
    {
     "name": "stdout",
     "output_type": "stream",
     "text": [
      "41\n",
      "43\n",
      "47\n",
      "53\n",
      "59\n",
      "61\n",
      "67\n"
     ]
    }
   ],
   "source": [
    "# start = 41\n",
    "# end = 67\n",
    "start = int(input(\"Enter start number:\"))\n",
    "end = int(input(\"Enter end number:\"))\n",
    "\n",
    "for number in range(start, end + 1):\n",
    "\n",
    "    for n in range(2, number):\n",
    "        if number % n == 0:\n",
    "            break\n",
    "    else:\n",
    "        print(number)"
   ]
  },
  {
   "cell_type": "code",
   "execution_count": 20,
   "id": "b1156600",
   "metadata": {},
   "outputs": [
    {
     "name": "stdout",
     "output_type": "stream",
     "text": [
      "5\n",
      "7\n",
      "11\n",
      "13\n",
      "17\n",
      "19\n",
      "23\n",
      "29\n",
      "31\n",
      "37\n",
      "41\n",
      "43\n",
      "47\n",
      "53\n",
      "59\n",
      "61\n",
      "67\n"
     ]
    }
   ],
   "source": [
    "start = 4\n",
    "end = 70\n",
    "\n",
    "def is_prime_number(number):\n",
    "    for n in range(2, number):\n",
    "        if number % n == 0:\n",
    "            return False\n",
    "    return True\n",
    "\n",
    "for number in range(start, end + 1):\n",
    "    if is_prime_number(number=number):\n",
    "        print(number)"
   ]
  },
  {
   "cell_type": "code",
   "execution_count": 29,
   "id": "a6cb52a7",
   "metadata": {},
   "outputs": [],
   "source": [
    "for _ in range(3):\n",
    "    break\n",
    "else:\n",
    "    print(\"Non break Only\")"
   ]
  },
  {
   "cell_type": "code",
   "execution_count": 30,
   "id": "ac37b488",
   "metadata": {},
   "outputs": [
    {
     "name": "stdout",
     "output_type": "stream",
     "text": [
      "0\n",
      "1\n",
      "2\n",
      "Non break Only\n"
     ]
    }
   ],
   "source": [
    "for i in range(3):\n",
    "    print(i)\n",
    "else:\n",
    "    print(\"Non break Only\")"
   ]
  },
  {
   "cell_type": "markdown",
   "id": "3471f59c",
   "metadata": {},
   "source": [
    "### Exercise9"
   ]
  },
  {
   "cell_type": "code",
   "execution_count": null,
   "id": "4b757a17",
   "metadata": {},
   "outputs": [
    {
     "name": "stdout",
     "output_type": "stream",
     "text": [
      "Too low\n",
      "Too low\n",
      "Too low\n",
      "Too low\n",
      "Too low\n",
      "You loss Answer is 4\n"
     ]
    }
   ],
   "source": [
    "import random\n",
    "\n",
    "TIMES_OF_GUESSING = 5\n",
    "\n",
    "answer = random.randint(1, 100)\n",
    "# print(\"Answer =\", answer)\n",
    "\n",
    "current_times_of_guessing = 0\n",
    "\n",
    "while current_times_of_guessing < TIMES_OF_GUESSING:\n",
    "    current_times_of_guessing += 1\n",
    "    guessing_number = int(input(f\"Guess ({current_times_of_guessing}):\"))\n",
    "\n",
    "    if guessing_number == answer:\n",
    "        print(f\"You Win Answer is {guessing_number}\")\n",
    "        break\n",
    "    elif guessing_number >= answer:\n",
    "        print(\"Too high\")\n",
    "    elif guessing_number <= answer:\n",
    "        print(\"Too low\")\n",
    "else:\n",
    "    print(f\"You loss Answer is {answer}\")\n"
   ]
  },
  {
   "cell_type": "markdown",
   "id": "31918a85",
   "metadata": {},
   "source": [
    "### Exercise10"
   ]
  },
  {
   "cell_type": "code",
   "execution_count": null,
   "id": "98878d6d",
   "metadata": {},
   "outputs": [
    {
     "name": "stdout",
     "output_type": "stream",
     "text": [
      "max_number = 22\n"
     ]
    }
   ],
   "source": [
    "list_of_number = []\n",
    "\n",
    "length_of_list = int(input(\"Enter length of list:\"))\n",
    "\n",
    "for _ in range(length_of_list):\n",
    "    number_to_append = int(input(\"Enter number to append:\"))\n",
    "    list_of_number.append(number_to_append)\n",
    "\n",
    "print(\"list_of_number =\",list_of_number)\n",
    "# list_of_number = [8, -5, 22, -3]\n",
    "\n",
    "max_number = list_of_number[0]\n",
    "\n",
    "for i in list_of_number:\n",
    "    if max_number < i:\n",
    "        max_number = i\n",
    "\n",
    "print(\"max_number =\", max_number)"
   ]
  },
  {
   "cell_type": "markdown",
   "id": "fcd460a6",
   "metadata": {},
   "source": [
    "### Exercise11"
   ]
  },
  {
   "cell_type": "code",
   "execution_count": null,
   "id": "4a11f671",
   "metadata": {},
   "outputs": [
    {
     "name": "stdout",
     "output_type": "stream",
     "text": [
      "Color1-Color2: ['red', 'orange', 'white']\n",
      "Color2-Color1: ['black', 'yellow']\n"
     ]
    }
   ],
   "source": [
    "color1 = [\"red\", \"orange\", \"green\", \"blue\", \"white\"]\n",
    "color2 = [\"black\", \"yellow\", \"green\", \"blue\"]\n",
    "\n",
    "same_color = []\n",
    "# color1 have but color2 not have\n",
    "diff_c1_c2 = []\n",
    "# color2 have but color1 not have\n",
    "diff_c2_c1 = []\n",
    "\n",
    "for c1 in color1:\n",
    "    for c2 in color2:\n",
    "        if c1 == c2:\n",
    "            same_color.append(c1)\n",
    "\n",
    "# print(same_color)\n",
    "\n",
    "for c1 in color1:\n",
    "    if c1 not in same_color:\n",
    "        diff_c1_c2.append(c1)\n",
    "\n",
    "for c2 in color2:\n",
    "    if c2 not in same_color:\n",
    "        diff_c2_c1.append(c2)\n",
    "\n",
    "print(\"Color1-Color2:\",diff_c1_c2)\n",
    "print(\"Color2-Color1:\" ,diff_c2_c1)"
   ]
  },
  {
   "cell_type": "code",
   "execution_count": 11,
   "id": "3a931401",
   "metadata": {},
   "outputs": [
    {
     "name": "stdout",
     "output_type": "stream",
     "text": [
      "Color1-Color2: ['red', 'orange', 'white']\n",
      "Color2-Color1: ['black', 'yellow']\n"
     ]
    }
   ],
   "source": [
    "color1 = [\"red\", \"orange\", \"green\", \"blue\", \"white\"]\n",
    "color2 = [\"black\", \"yellow\", \"green\", \"blue\"]\n",
    "\n",
    "same_color = list(filter(lambda c1: c1 in color2, color1))\n",
    "diff_c1_c2 = list(filter(lambda c: c not in same_color, color1))\n",
    "diff_c2_c1 = list(filter(lambda c: c not in same_color, color2))\n",
    "\n",
    "print(\"Color1-Color2:\",diff_c1_c2)\n",
    "print(\"Color2-Color1:\" ,diff_c2_c1)"
   ]
  },
  {
   "cell_type": "markdown",
   "id": "c3c5eeed",
   "metadata": {},
   "source": [
    "## Exercise12"
   ]
  },
  {
   "cell_type": "code",
   "execution_count": 20,
   "id": "2d2f00fb",
   "metadata": {},
   "outputs": [
    {
     "name": "stdout",
     "output_type": "stream",
     "text": [
      "2025: False\n",
      "2024: True\n",
      "2000: True\n",
      "2100: False\n"
     ]
    }
   ],
   "source": [
    "def is_leap_year(year):\n",
    "    return (year % 400 == 0) or (year % 100 != 0 and year % 4 == 0)\n",
    "\n",
    "print(\"2025:\", is_leap_year(2025))\n",
    "print(\"2024:\", is_leap_year(2024))\n",
    "print(\"2000:\", is_leap_year(2000))\n",
    "print(\"2100:\", is_leap_year(2100))"
   ]
  },
  {
   "cell_type": "markdown",
   "id": "b29d43a4",
   "metadata": {},
   "source": [
    "## Exercise13"
   ]
  },
  {
   "cell_type": "code",
   "execution_count": 15,
   "id": "9e6dacef",
   "metadata": {},
   "outputs": [
    {
     "name": "stdout",
     "output_type": "stream",
     "text": [
      "new_list: [1, 2, 3, 4, 5]\n"
     ]
    }
   ],
   "source": [
    "example_list = [1, 2, 3, 3, 3, 3, 4, 5]\n",
    "\n",
    "def get_unique_list(l):\n",
    "    unique_list = []\n",
    "\n",
    "    for i in l:\n",
    "        if i not in unique_list:\n",
    "            unique_list.append(i)\n",
    "\n",
    "    return unique_list\n",
    "\n",
    "new_list = get_unique_list(example_list)\n",
    "print(\"new_list:\", new_list)"
   ]
  }
 ],
 "metadata": {
  "kernelspec": {
   "display_name": "Python 3",
   "language": "python",
   "name": "python3"
  },
  "language_info": {
   "codemirror_mode": {
    "name": "ipython",
    "version": 3
   },
   "file_extension": ".py",
   "mimetype": "text/x-python",
   "name": "python",
   "nbconvert_exporter": "python",
   "pygments_lexer": "ipython3",
   "version": "3.9.6"
  }
 },
 "nbformat": 4,
 "nbformat_minor": 5
}
