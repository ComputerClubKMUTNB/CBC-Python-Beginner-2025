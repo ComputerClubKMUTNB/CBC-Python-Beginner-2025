{
 "cells": [
  {
   "cell_type": "markdown",
   "id": "b686802c",
   "metadata": {},
   "source": [
    "Python for Loop Statement"
   ]
  },
  {
   "cell_type": "code",
   "execution_count": null,
   "id": "896cb0f9",
   "metadata": {},
   "outputs": [],
   "source": [
    "#for loop Syntax\n",
    "\n",
    "#for i in sequence:\n",
    "    #run this process"
   ]
  },
  {
   "cell_type": "code",
   "execution_count": 71,
   "id": "89aee818",
   "metadata": {},
   "outputs": [
    {
     "name": "stdout",
     "output_type": "stream",
     "text": [
      "P'\n",
      "Kaning\n",
      "Sut\n",
      "Lhor\n"
     ]
    }
   ],
   "source": [
    "#List\n",
    "sentence = [\"P'\", \"Kaning\", \"Sut\", \"Lhor\"]\n",
    "\n",
    "#for loop statement\n",
    "for word in sentence:\n",
    "    print(word)"
   ]
  },
  {
   "cell_type": "code",
   "execution_count": 56,
   "id": "90ab0f40",
   "metadata": {},
   "outputs": [
    {
     "name": "stdout",
     "output_type": "stream",
     "text": [
      "P'\n",
      "Kaning\n",
      "Sud\n",
      "Lhor\n",
      "😎\n"
     ]
    }
   ],
   "source": [
    "#List\n",
    "sentence = [\"P'\", \"Kaning\", \"Sud\", \"Lhor\"]\n",
    "\n",
    "#for loop statement\n",
    "for word in sentence:\n",
    "    print(word)\n",
    "\n",
    "#outside for loop\n",
    "print(\"😎\")"
   ]
  },
  {
   "cell_type": "code",
   "execution_count": 23,
   "id": "2ae9f2fb",
   "metadata": {},
   "outputs": [
    {
     "ename": "IndentationError",
     "evalue": "expected an indented block after 'for' statement on line 5 (3587512201.py, line 6)",
     "output_type": "error",
     "traceback": [
      "  \u001b[36mCell\u001b[39m\u001b[36m \u001b[39m\u001b[32mIn[23]\u001b[39m\u001b[32m, line 6\u001b[39m\n\u001b[31m    \u001b[39m\u001b[31mprint(word)        #Indentation Error\u001b[39m\n    ^\n\u001b[31mIndentationError\u001b[39m\u001b[31m:\u001b[39m expected an indented block after 'for' statement on line 5\n"
     ]
    }
   ],
   "source": [
    "#List\n",
    "sentence = [\"P'\", \"Kaning\", \"Sud\", \"Lhor\"]\n",
    "\n",
    "#for loop statement\n",
    "for word in sentence:\n",
    "print(word)        #Indentation Error"
   ]
  },
  {
   "cell_type": "code",
   "execution_count": 29,
   "id": "1981e3d6",
   "metadata": {},
   "outputs": [
    {
     "name": "stdout",
     "output_type": "stream",
     "text": [
      "(.Y.)\n",
      " ) (\n",
      "( Y )\n"
     ]
    }
   ],
   "source": [
    "#List\n",
    "body = [\"(.Y.)\", \" ) (\", \"( Y )\"]        #อันนี้ห้ามออกสื่อ\n",
    "\n",
    "#for loop statement\n",
    "for parts in body:\n",
    "    print(parts)"
   ]
  },
  {
   "cell_type": "code",
   "execution_count": null,
   "id": "b780be3a",
   "metadata": {},
   "outputs": [
    {
     "name": "stdout",
     "output_type": "stream",
     "text": [
      "0\n",
      "1\n",
      "2\n",
      "3\n",
      "4\n"
     ]
    }
   ],
   "source": [
    "#List\n",
    "sequence = [0, 1, 2, 3, 4]\n",
    "\n",
    "#for loop statement\n",
    "for lumdub in sequence:\n",
    "    print(lumdub)"
   ]
  },
  {
   "cell_type": "code",
   "execution_count": 32,
   "id": "19daa9e6",
   "metadata": {},
   "outputs": [
    {
     "name": "stdout",
     "output_type": "stream",
     "text": [
      "CBC Python Beginner 2025\n",
      "CBC Python Beginner 2025\n",
      "CBC Python Beginner 2025\n",
      "CBC Python Beginner 2025\n",
      "CBC Python Beginner 2025\n"
     ]
    }
   ],
   "source": [
    "#List\n",
    "sequence = [0, 1, 2, 3, 4]\n",
    "\n",
    "#for loop statement\n",
    "for lumdub in sequence:\n",
    "    print(\"CBC Python Beginner 2025\")"
   ]
  },
  {
   "cell_type": "code",
   "execution_count": 43,
   "id": "182f6f65",
   "metadata": {},
   "outputs": [
    {
     "name": "stdout",
     "output_type": "stream",
     "text": [
      "K\n",
      "M\n",
      "U\n",
      "T\n",
      "N\n",
      "B\n"
     ]
    }
   ],
   "source": [
    "#String\n",
    "university = 'KMUTNB'\n",
    "\n",
    "#for loop statement\n",
    "for alphabet in university:\n",
    "    print(alphabet)"
   ]
  },
  {
   "cell_type": "code",
   "execution_count": 45,
   "id": "183fa50c",
   "metadata": {},
   "outputs": [
    {
     "name": "stdout",
     "output_type": "stream",
     "text": [
      "K\n",
      "i\n",
      "n\n",
      "g\n",
      " \n",
      "M\n",
      "o\n",
      "n\n",
      "g\n",
      "k\n",
      "u\n",
      "t\n",
      "'\n",
      "s\n",
      " \n",
      "U\n",
      "n\n",
      "i\n",
      "v\n",
      "e\n",
      "r\n",
      "s\n",
      "i\n",
      "t\n",
      "y\n",
      " \n",
      "o\n",
      "f\n",
      " \n",
      "T\n",
      "e\n",
      "c\n",
      "h\n",
      "n\n",
      "o\n",
      "l\n",
      "o\n",
      "g\n",
      "y\n",
      " \n",
      "N\n",
      "o\n",
      "r\n",
      "t\n",
      "h\n",
      " \n",
      "B\n",
      "a\n",
      "n\n",
      "g\n",
      "k\n",
      "o\n",
      "k\n"
     ]
    }
   ],
   "source": [
    "#String\n",
    "mahawittayalai = \"King Mongkut's University of Technology North Bangkok\"\n",
    "\n",
    "#for loop statement\n",
    "for alphabet in mahawittayalai:\n",
    "    print(alphabet)"
   ]
  },
  {
   "cell_type": "code",
   "execution_count": 59,
   "id": "ad375add",
   "metadata": {},
   "outputs": [
    {
     "name": "stdout",
     "output_type": "stream",
     "text": [
      "0\n",
      "1\n",
      "2\n",
      "3\n",
      "4\n"
     ]
    }
   ],
   "source": [
    "#for loop statement\n",
    "for lumdub in range(0, 5):\n",
    "    print(lumdub)"
   ]
  },
  {
   "cell_type": "code",
   "execution_count": 58,
   "id": "20da2efd",
   "metadata": {},
   "outputs": [
    {
     "name": "stdout",
     "output_type": "stream",
     "text": [
      "Mai Wai Laew\n",
      "Mai Wai Laew\n",
      "Mai Wai Laew\n",
      "Mai Wai Laew\n",
      "Mai Wai Laew\n"
     ]
    }
   ],
   "source": [
    "#for loop statement\n",
    "for lumdub in range(0, 5):\n",
    "    print(\"Mai Wai Laew\")"
   ]
  },
  {
   "cell_type": "code",
   "execution_count": 38,
   "id": "226e760f",
   "metadata": {},
   "outputs": [
    {
     "name": "stdout",
     "output_type": "stream",
     "text": [
      "1\n",
      "2\n",
      "3\n",
      "4\n",
      "5\n",
      "6\n",
      "7\n",
      "8\n",
      "9\n"
     ]
    }
   ],
   "source": [
    "#for loop statement\n",
    "for lumdub in range(1, 10):\n",
    "    print(lumdub)"
   ]
  },
  {
   "cell_type": "markdown",
   "id": "0361546e",
   "metadata": {},
   "source": [
    "Break and Continue Statement"
   ]
  },
  {
   "cell_type": "code",
   "execution_count": 68,
   "id": "8ea05cea",
   "metadata": {},
   "outputs": [
    {
     "name": "stdout",
     "output_type": "stream",
     "text": [
      "P'\n",
      "Karn\n",
      "Hew\n"
     ]
    }
   ],
   "source": [
    "#List\n",
    "sentence = [\"P'\", \"Karn\", \"Hew\", \"Kao\", \"Mak\", \"Mak\"]\n",
    "\n",
    "#for loop statement\n",
    "for word in sentence:\n",
    "    if word == \"Kao\":\n",
    "        break\n",
    "    print(word)"
   ]
  },
  {
   "cell_type": "code",
   "execution_count": 67,
   "id": "24004c38",
   "metadata": {},
   "outputs": [
    {
     "name": "stdout",
     "output_type": "stream",
     "text": [
      "P'\n",
      "Karn\n",
      "Hew\n",
      "Mak\n",
      "Mak\n"
     ]
    }
   ],
   "source": [
    "#List\n",
    "sentence = [\"P'\", \"Karn\", \"Hew\", \"Kao\", \"Mak\", \"Mak\"]\n",
    "\n",
    "#for loop statement\n",
    "for word in sentence:\n",
    "    if word == \"Kao\":\n",
    "        continue\n",
    "    print(word)"
   ]
  },
  {
   "cell_type": "markdown",
   "id": "b8d951ce",
   "metadata": {},
   "source": [
    "Nested for loop"
   ]
  },
  {
   "cell_type": "code",
   "execution_count": 81,
   "id": "9ce582a4",
   "metadata": {},
   "outputs": [
    {
     "name": "stdout",
     "output_type": "stream",
     "text": [
      "P'Kaning Sut Lhor\n",
      "P'Kaning Hew Kao\n",
      "P'Kaning Puad Lung\n",
      "-------------------\n",
      "P'Karn Sut Lhor\n",
      "P'Karn Hew Kao\n",
      "P'Karn Puad Lung\n",
      "-------------------\n",
      "P'Petong Sut Lhor\n",
      "P'Petong Hew Kao\n",
      "P'Petong Puad Lung\n",
      "-------------------\n"
     ]
    }
   ],
   "source": [
    "#List\n",
    "staff = [\"P'Kaning\", \"P'Karn\", \"P'Petong\"]\n",
    "action = [\"Sut Lhor\", \"Hew Kao\", \"Puad Lung\"]\n",
    "\n",
    "#for loop\n",
    "for name in staff:\n",
    "    #for loop\n",
    "    for verb in action:\n",
    "        print(name, verb)\n",
    "    \n",
    "    #outside second for loop\n",
    "    print(\"-------------------\")\n"
   ]
  },
  {
   "cell_type": "code",
   "execution_count": 105,
   "id": "57e0a5a8",
   "metadata": {},
   "outputs": [
    {
     "name": "stdout",
     "output_type": "stream",
     "text": [
      "English Language Level From High To Low (CEFR)\n",
      "C2\n",
      "C1\n",
      "B2\n",
      "B1\n",
      "A2\n",
      "A1\n"
     ]
    }
   ],
   "source": [
    "#List\n",
    "alphabet = [\"C\", \"B\", \"A\"]\n",
    "number = [2, 1]\n",
    "\n",
    "print(\"English Language Level From High To Low (CEFR)\")\n",
    "#for loop statement\n",
    "for i in alphabet:\n",
    "    #for loop statement\n",
    "    for j in number:\n",
    "        print(f'{i}{j}')"
   ]
  },
  {
   "cell_type": "code",
   "execution_count": 106,
   "id": "f97cf1e4",
   "metadata": {},
   "outputs": [
    {
     "name": "stdout",
     "output_type": "stream",
     "text": [
      "English Language Level From High To Low (CEFR)\n",
      "C2\n",
      "C1\n",
      "B2\n",
      "B1\n",
      "A2\n",
      "A1\n"
     ]
    }
   ],
   "source": [
    "#List\n",
    "alphabet = [\"A\", \"B\", \"C\"]\n",
    "number = [1, 2]\n",
    "\n",
    "print(\"English Language Level From High To Low (CEFR)\")\n",
    "#for loop statement\n",
    "for i in alphabet[::-1]:\n",
    "    #for loop statement\n",
    "    for j in number[::-1]:\n",
    "        print(f'{i}{j}')"
   ]
  }
 ],
 "metadata": {
  "kernelspec": {
   "display_name": "Python 3",
   "language": "python",
   "name": "python3"
  },
  "language_info": {
   "codemirror_mode": {
    "name": "ipython",
    "version": 3
   },
   "file_extension": ".py",
   "mimetype": "text/x-python",
   "name": "python",
   "nbconvert_exporter": "python",
   "pygments_lexer": "ipython3",
   "version": "3.13.2"
  }
 },
 "nbformat": 4,
 "nbformat_minor": 5
}
