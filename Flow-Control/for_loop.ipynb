{
 "cells": [
  {
   "cell_type": "code",
   "execution_count": 15,
   "id": "89aee818",
   "metadata": {},
   "outputs": [
    {
     "name": "stdout",
     "output_type": "stream",
     "text": [
      "P'\n",
      "Kaning\n",
      "Sud\n",
      "Lhor\n"
     ]
    }
   ],
   "source": [
    "sequence = [\"P'\", \"Kaning\", \"Sud\", \"Lhor\"]\n",
    "\n",
    "for i in sequence:\n",
    "    print(i)"
   ]
  },
  {
   "cell_type": "code",
   "execution_count": 14,
   "id": "b780be3a",
   "metadata": {},
   "outputs": [
    {
     "name": "stdout",
     "output_type": "stream",
     "text": [
      "1\n",
      "2\n",
      "3\n",
      "4\n",
      "5\n"
     ]
    }
   ],
   "source": [
    "sequence = [1, 2, 3, 4, 5]\n",
    "\n",
    "for lumdub in sequence:\n",
    "    print(lumdub)"
   ]
  },
  {
   "cell_type": "code",
   "execution_count": 13,
   "id": "1981e3d6",
   "metadata": {},
   "outputs": [
    {
     "name": "stdout",
     "output_type": "stream",
     "text": [
      "(.Y.)\n",
      " ) (\n",
      "( Y )\n"
     ]
    }
   ],
   "source": [
    "body = [\"(.Y.)\", \" ) (\", \"( Y )\"]        #อันนี้ห้ามออกสื่อ\n",
    "\n",
    "for parts in body:\n",
    "    print(parts)"
   ]
  },
  {
   "cell_type": "code",
   "execution_count": null,
   "id": "ad375add",
   "metadata": {},
   "outputs": [],
   "source": []
  }
 ],
 "metadata": {
  "kernelspec": {
   "display_name": "Python 3",
   "language": "python",
   "name": "python3"
  },
  "language_info": {
   "codemirror_mode": {
    "name": "ipython",
    "version": 3
   },
   "file_extension": ".py",
   "mimetype": "text/x-python",
   "name": "python",
   "nbconvert_exporter": "python",
   "pygments_lexer": "ipython3",
   "version": "3.13.2"
  }
 },
 "nbformat": 4,
 "nbformat_minor": 5
}
