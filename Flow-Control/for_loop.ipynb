{
 "cells": [
  {
   "cell_type": "markdown",
   "id": "b686802c",
   "metadata": {},
   "source": [
    "Python for Loop Statement"
   ]
  },
  {
   "cell_type": "code",
   "execution_count": null,
   "id": "896cb0f9",
   "metadata": {},
   "outputs": [],
   "source": [
    "#for loop Syntax\n",
    "\n",
    "#for i in sequence:\n",
    "    #run this process"
   ]
  },
  {
   "cell_type": "code",
   "execution_count": 22,
   "id": "89aee818",
   "metadata": {},
   "outputs": [
    {
     "name": "stdout",
     "output_type": "stream",
     "text": [
      "P'\n",
      "Kaning\n",
      "Sud\n",
      "Lhor\n"
     ]
    }
   ],
   "source": [
    "#List\n",
    "sentence = [\"P'\", \"Kaning\", \"Sud\", \"Lhor\"]\n",
    "\n",
    "#for loop statement\n",
    "for word in sentence:\n",
    "    print(word)"
   ]
  },
  {
   "cell_type": "code",
   "execution_count": 23,
   "id": "2ae9f2fb",
   "metadata": {},
   "outputs": [
    {
     "ename": "IndentationError",
     "evalue": "expected an indented block after 'for' statement on line 5 (3587512201.py, line 6)",
     "output_type": "error",
     "traceback": [
      "  \u001b[36mCell\u001b[39m\u001b[36m \u001b[39m\u001b[32mIn[23]\u001b[39m\u001b[32m, line 6\u001b[39m\n\u001b[31m    \u001b[39m\u001b[31mprint(word)        #Indentation Error\u001b[39m\n    ^\n\u001b[31mIndentationError\u001b[39m\u001b[31m:\u001b[39m expected an indented block after 'for' statement on line 5\n"
     ]
    }
   ],
   "source": [
    "#List\n",
    "sentence = [\"P'\", \"Kaning\", \"Sud\", \"Lhor\"]\n",
    "\n",
    "#for loop statement\n",
    "for word in sentence:\n",
    "print(word)        #Indentation Error"
   ]
  },
  {
   "cell_type": "code",
   "execution_count": null,
   "id": "1981e3d6",
   "metadata": {},
   "outputs": [
    {
     "name": "stdout",
     "output_type": "stream",
     "text": [
      "(.Y.)\n",
      " ) (\n",
      "( Y )\n"
     ]
    }
   ],
   "source": [
    "#List\n",
    "body = [\"(.Y.)\", \" ) (\", \"( Y )\"]        #อันนี้ห้ามออกสื่อ\n",
    "\n",
    "#for loop statement\n",
    "for parts in body:\n",
    "    print(parts)"
   ]
  },
  {
   "cell_type": "code",
   "execution_count": null,
   "id": "b780be3a",
   "metadata": {},
   "outputs": [
    {
     "name": "stdout",
     "output_type": "stream",
     "text": [
      "0\n",
      "1\n",
      "2\n",
      "3\n",
      "4\n"
     ]
    }
   ],
   "source": [
    "#List\n",
    "sequence = [0, 1, 2, 3, 4]\n",
    "\n",
    "#for loop statement\n",
    "for lumdub in sequence:\n",
    "    print(lumdub)"
   ]
  },
  {
   "cell_type": "code",
   "execution_count": 28,
   "id": "ad375add",
   "metadata": {},
   "outputs": [
    {
     "name": "stdout",
     "output_type": "stream",
     "text": [
      "0\n",
      "1\n",
      "2\n",
      "3\n",
      "4\n"
     ]
    }
   ],
   "source": [
    "#for loop statement\n",
    "for i in range(0, 5):\n",
    "    print(i)"
   ]
  }
 ],
 "metadata": {
  "kernelspec": {
   "display_name": "Python 3",
   "language": "python",
   "name": "python3"
  },
  "language_info": {
   "codemirror_mode": {
    "name": "ipython",
    "version": 3
   },
   "file_extension": ".py",
   "mimetype": "text/x-python",
   "name": "python",
   "nbconvert_exporter": "python",
   "pygments_lexer": "ipython3",
   "version": "3.13.2"
  }
 },
 "nbformat": 4,
 "nbformat_minor": 5
}
