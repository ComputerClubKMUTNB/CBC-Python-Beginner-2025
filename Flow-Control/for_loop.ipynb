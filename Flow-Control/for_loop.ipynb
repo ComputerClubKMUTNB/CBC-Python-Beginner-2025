{
 "cells": [
  {
   "cell_type": "markdown",
   "id": "b686802c",
   "metadata": {},
   "source": [
    "Python for Loop Statement"
   ]
  },
  {
   "cell_type": "code",
   "execution_count": null,
   "id": "896cb0f9",
   "metadata": {},
   "outputs": [],
   "source": [
    "#for loop Syntax\n",
    "\n",
    "#for i in sequence:\n",
    "    #run this process"
   ]
  },
  {
   "cell_type": "markdown",
   "id": "cbfa89cd",
   "metadata": {},
   "source": [
    "for Loop With A List"
   ]
  },
  {
   "cell_type": "code",
   "execution_count": null,
   "id": "89aee818",
   "metadata": {},
   "outputs": [],
   "source": [
    "#List\n",
    "sentence = [\"P'\", \"Kaning\", \"Sut\", \"Lhor\"]\n",
    "\n",
    "#for loop statement\n",
    "for word in sentence:\n",
    "    print(word)"
   ]
  },
  {
   "cell_type": "code",
   "execution_count": null,
   "id": "90ab0f40",
   "metadata": {},
   "outputs": [],
   "source": [
    "#List\n",
    "sentence = [\"P'\", \"Kaning\", \"Sud\", \"Lhor\"]\n",
    "\n",
    "#for loop statement\n",
    "for word in sentence:\n",
    "    print(word)\n",
    "\n",
    "#outside for loop\n",
    "print(\"😎\")"
   ]
  },
  {
   "cell_type": "code",
   "execution_count": null,
   "id": "2ae9f2fb",
   "metadata": {},
   "outputs": [],
   "source": [
    "#List\n",
    "sentence = [\"P'\", \"Kaning\", \"Sud\", \"Lhor\"]\n",
    "\n",
    "#for loop statement\n",
    "for word in sentence:\n",
    "print(word)        #Indentation Error"
   ]
  },
  {
   "cell_type": "code",
   "execution_count": null,
   "id": "9235236b",
   "metadata": {},
   "outputs": [],
   "source": [
    "#List\n",
    "sentence = [\"P'\", \"Kaning\", \"Sud\", \"Lhor\"]\n",
    "\n",
    "#for loop statement\n",
    "for word in sentence:\n",
    "    print(words)        #Indentation Error"
   ]
  },
  {
   "cell_type": "code",
   "execution_count": null,
   "id": "9299c3e5",
   "metadata": {},
   "outputs": [],
   "source": [
    "#List\n",
    "sentence = [\"P'\", \"Kaning\", \"Sud\", \"Lhor\"]\n",
    "\n",
    "#for loop statement\n",
    "for word in sentence:\n",
    "    print(word)        #Indentation Error"
   ]
  },
  {
   "cell_type": "code",
   "execution_count": null,
   "id": "1981e3d6",
   "metadata": {},
   "outputs": [],
   "source": [
    "#List\n",
    "body = [\"(.Y.)\", \" ) (\", \"( Y )\"]        #อันนี้ห้ามออกสื่อ\n",
    "\n",
    "#for loop statement\n",
    "for parts in body:\n",
    "    print(parts)"
   ]
  },
  {
   "cell_type": "code",
   "execution_count": null,
   "id": "b780be3a",
   "metadata": {},
   "outputs": [],
   "source": [
    "#List\n",
    "sequence = [0, 1, 2, 3, 4]\n",
    "\n",
    "#for loop statement\n",
    "for lumdub in sequence:\n",
    "    print(lumdub)"
   ]
  },
  {
   "cell_type": "code",
   "execution_count": null,
   "id": "19daa9e6",
   "metadata": {},
   "outputs": [],
   "source": [
    "#List\n",
    "sequence = [0, 1, 2, 3, 4]\n",
    "\n",
    "#for loop statement\n",
    "for lumdub in sequence:\n",
    "    print(\"CBC Python Beginner 2025\")"
   ]
  },
  {
   "cell_type": "markdown",
   "id": "a039de2b",
   "metadata": {},
   "source": [
    "for Loop Through A String"
   ]
  },
  {
   "cell_type": "code",
   "execution_count": null,
   "id": "182f6f65",
   "metadata": {},
   "outputs": [],
   "source": [
    "#String\n",
    "university = 'KMUTNB'\n",
    "\n",
    "#for loop statement\n",
    "for alphabet in university:\n",
    "    print(alphabet)"
   ]
  },
  {
   "cell_type": "code",
   "execution_count": null,
   "id": "183fa50c",
   "metadata": {},
   "outputs": [],
   "source": [
    "#String\n",
    "mahawittayalai = \"King Mongkut's University of Technology North Bangkok\"\n",
    "\n",
    "#for loop statement\n",
    "for alphabet in mahawittayalai:\n",
    "    print(alphabet)"
   ]
  },
  {
   "cell_type": "markdown",
   "id": "592c98e1",
   "metadata": {},
   "source": [
    "for Loop With Range"
   ]
  },
  {
   "cell_type": "code",
   "execution_count": 9,
   "id": "ad375add",
   "metadata": {},
   "outputs": [
    {
     "name": "stdout",
     "output_type": "stream",
     "text": [
      "0\n",
      "1\n",
      "2\n",
      "3\n",
      "4\n"
     ]
    }
   ],
   "source": [
    "#for loop statement\n",
    "for i in range(5):\n",
    "    print(i)"
   ]
  },
  {
   "cell_type": "code",
   "execution_count": 12,
   "id": "9f177e5a",
   "metadata": {},
   "outputs": [
    {
     "ename": "IndentationError",
     "evalue": "expected an indented block (65141857.py, line 3)",
     "output_type": "error",
     "traceback": [
      "\u001b[0;36m  Cell \u001b[0;32mIn[12], line 3\u001b[0;36m\u001b[0m\n\u001b[0;31m    print(i)\u001b[0m\n\u001b[0m    ^\u001b[0m\n\u001b[0;31mIndentationError\u001b[0m\u001b[0;31m:\u001b[0m expected an indented block\n"
     ]
    }
   ],
   "source": [
    "#for loop statement\n",
    "for i in range(5):\n",
    "print(i)"
   ]
  },
  {
   "cell_type": "code",
   "execution_count": 10,
   "id": "226e760f",
   "metadata": {},
   "outputs": [
    {
     "name": "stdout",
     "output_type": "stream",
     "text": [
      "1\n",
      "2\n",
      "3\n",
      "4\n",
      "5\n",
      "6\n",
      "7\n",
      "8\n",
      "9\n"
     ]
    }
   ],
   "source": [
    "#for loop statement\n",
    "for i in range(1, 10):\n",
    "    print(i)"
   ]
  },
  {
   "cell_type": "code",
   "execution_count": 11,
   "id": "20da2efd",
   "metadata": {},
   "outputs": [
    {
     "name": "stdout",
     "output_type": "stream",
     "text": [
      "Mai Wai Laew\n",
      "Mai Wai Laew\n",
      "Mai Wai Laew\n",
      "Mai Wai Laew\n",
      "Mai Wai Laew\n"
     ]
    }
   ],
   "source": [
    "#for loop statement\n",
    "for _ in range(5):\n",
    "    print(\"Mai Wai Laew\")"
   ]
  },
  {
   "cell_type": "markdown",
   "id": "0361546e",
   "metadata": {},
   "source": [
    "Break and Continue Statement"
   ]
  },
  {
   "cell_type": "code",
   "execution_count": null,
   "id": "8ea05cea",
   "metadata": {},
   "outputs": [],
   "source": [
    "#List\n",
    "sentence = [\"P'\", \"Karn\", \"Hew\", \"Kao\", \"Mak\", \"Mak\"]\n",
    "\n",
    "#for loop statement\n",
    "for word in sentence:\n",
    "    if word == \"Kao\":\n",
    "        break\n",
    "    print(word)"
   ]
  },
  {
   "cell_type": "code",
   "execution_count": null,
   "id": "24004c38",
   "metadata": {},
   "outputs": [],
   "source": [
    "#List\n",
    "sentence = [\"P'\", \"Karn\", \"Hew\", \"Kao\", \"Mak\", \"Mak\"]\n",
    "\n",
    "#for loop statement\n",
    "for word in sentence:\n",
    "    if word == \"Kao\":\n",
    "        continue\n",
    "    print(word)"
   ]
  },
  {
   "cell_type": "markdown",
   "id": "b8d951ce",
   "metadata": {},
   "source": [
    "Nested for loop"
   ]
  },
  {
   "cell_type": "code",
   "execution_count": null,
   "id": "9ce582a4",
   "metadata": {},
   "outputs": [],
   "source": [
    "#List\n",
    "staff = [\"P'Kaning\", \"P'Karn\", \"P'Petong\"]\n",
    "action = [\"Sut Lhor\", \"Hew Kao\", \"Puad Lung\"]\n",
    "\n",
    "#for loop\n",
    "for name in staff:\n",
    "    #for loop\n",
    "    for verb in action:\n",
    "        print(name, verb)\n",
    "    \n",
    "    #outside second for loop\n",
    "    print(\"-------------------\")\n"
   ]
  },
  {
   "cell_type": "code",
   "execution_count": null,
   "id": "57e0a5a8",
   "metadata": {},
   "outputs": [],
   "source": [
    "#List\n",
    "alphabet = [\"C\", \"B\", \"A\"]\n",
    "number = [2, 1]\n",
    "\n",
    "print(\"English Language Level From High To Low (CEFR)\")\n",
    "#for loop statement\n",
    "for i in alphabet:\n",
    "    #for loop statement\n",
    "    for j in number:\n",
    "        print(f'{i}{j}')"
   ]
  },
  {
   "cell_type": "code",
   "execution_count": null,
   "id": "f97cf1e4",
   "metadata": {},
   "outputs": [],
   "source": [
    "#List\n",
    "alphabet = [\"A\", \"B\", \"C\"]\n",
    "number = [1, 2]\n",
    "\n",
    "print(\"English Language Level From High To Low (CEFR)\")\n",
    "#for loop statement\n",
    "for i in alphabet[::-1]:\n",
    "    #for loop statement\n",
    "    for j in number[::-1]:\n",
    "        print(f'{i}{j}')"
   ]
  },
  {
   "cell_type": "code",
   "execution_count": null,
   "id": "880316a2",
   "metadata": {},
   "outputs": [
    {
     "name": "stdout",
     "output_type": "stream",
     "text": [
      "0 1 2 3 4\n"
     ]
    }
   ],
   "source": [
    "\"\"\"\n",
    "Start   : 0 (default)\n",
    "Stop    : 5\n",
    "Step    : 1 (default)\n",
    "\"\"\"\n",
    "print(*range(5))"
   ]
  },
  {
   "cell_type": "code",
   "execution_count": null,
   "id": "34ecfb5c",
   "metadata": {},
   "outputs": [
    {
     "name": "stdout",
     "output_type": "stream",
     "text": [
      "1 2 3 4\n"
     ]
    }
   ],
   "source": [
    "\"\"\"\n",
    "Start   : 1\n",
    "Stop    : 5\n",
    "Step    : 1 (default)\n",
    "\"\"\"\n",
    "print(*range(1, 5))"
   ]
  },
  {
   "cell_type": "code",
   "execution_count": null,
   "id": "581961ce",
   "metadata": {},
   "outputs": [
    {
     "name": "stdout",
     "output_type": "stream",
     "text": [
      "7 10 13 16 19 22\n"
     ]
    }
   ],
   "source": [
    "\"\"\"\n",
    "Start   : 7\n",
    "Stop    : 23\n",
    "Step    : 3\n",
    "\"\"\"\n",
    "print(*range(7, 23, 3))"
   ]
  },
  {
   "cell_type": "code",
   "execution_count": null,
   "id": "0f3b657a",
   "metadata": {},
   "outputs": [
    {
     "name": "stdout",
     "output_type": "stream",
     "text": [
      "0 -1 -2 -3 -4\n"
     ]
    }
   ],
   "source": [
    "\"\"\"\n",
    "Start   : 0\n",
    "Stop    : -5\n",
    "Step    : -1\n",
    "\"\"\"\n",
    "print(*range(0, -5, -1))"
   ]
  },
  {
   "cell_type": "code",
   "execution_count": 13,
   "id": "f4d3470b",
   "metadata": {},
   "outputs": [
    {
     "name": "stdout",
     "output_type": "stream",
     "text": [
      "0\n",
      "1\n",
      "2\n"
     ]
    }
   ],
   "source": [
    "for i in range(5):\n",
    "    if (i == 3):\n",
    "        break\n",
    "    print(i)"
   ]
  },
  {
   "cell_type": "code",
   "execution_count": 14,
   "id": "d7287969",
   "metadata": {},
   "outputs": [
    {
     "name": "stdout",
     "output_type": "stream",
     "text": [
      "0\n",
      "1\n",
      "2\n",
      "4\n"
     ]
    }
   ],
   "source": [
    "for i in range(5):\n",
    "    if (i == 3):\n",
    "        continue\n",
    "    print(i)"
   ]
  },
  {
   "cell_type": "code",
   "execution_count": 20,
   "id": "6259fc8b",
   "metadata": {},
   "outputs": [
    {
     "name": "stdout",
     "output_type": "stream",
     "text": [
      "--- 2 times table ---\n",
      "2 x 1 = 2\n",
      "2 x 2 = 4\n",
      "2 x 3 = 6\n",
      "2 x 4 = 8\n",
      "2 x 5 = 10\n",
      "2 x 6 = 12\n",
      "2 x 7 = 14\n",
      "2 x 8 = 16\n",
      "2 x 9 = 18\n",
      "2 x 10 = 20\n",
      "2 x 11 = 22\n",
      "2 x 12 = 24\n",
      "--- 3 times table ---\n",
      "3 x 1 = 3\n",
      "3 x 2 = 6\n",
      "3 x 3 = 9\n",
      "3 x 4 = 12\n",
      "3 x 5 = 15\n",
      "3 x 6 = 18\n",
      "3 x 7 = 21\n",
      "3 x 8 = 24\n",
      "3 x 9 = 27\n",
      "3 x 10 = 30\n",
      "3 x 11 = 33\n",
      "3 x 12 = 36\n",
      "--- 4 times table ---\n",
      "4 x 1 = 4\n",
      "4 x 2 = 8\n",
      "4 x 3 = 12\n",
      "4 x 4 = 16\n",
      "4 x 5 = 20\n",
      "4 x 6 = 24\n",
      "4 x 7 = 28\n",
      "4 x 8 = 32\n",
      "4 x 9 = 36\n",
      "4 x 10 = 40\n",
      "4 x 11 = 44\n",
      "4 x 12 = 48\n",
      "--- 5 times table ---\n",
      "5 x 1 = 5\n",
      "5 x 2 = 10\n",
      "5 x 3 = 15\n",
      "5 x 4 = 20\n",
      "5 x 5 = 25\n",
      "5 x 6 = 30\n",
      "5 x 7 = 35\n",
      "5 x 8 = 40\n",
      "5 x 9 = 45\n",
      "5 x 10 = 50\n",
      "5 x 11 = 55\n",
      "5 x 12 = 60\n",
      "--- 6 times table ---\n",
      "6 x 1 = 6\n",
      "6 x 2 = 12\n",
      "6 x 3 = 18\n",
      "6 x 4 = 24\n",
      "6 x 5 = 30\n",
      "6 x 6 = 36\n",
      "6 x 7 = 42\n",
      "6 x 8 = 48\n",
      "6 x 9 = 54\n",
      "6 x 10 = 60\n",
      "6 x 11 = 66\n",
      "6 x 12 = 72\n",
      "--- 7 times table ---\n",
      "7 x 1 = 7\n",
      "7 x 2 = 14\n",
      "7 x 3 = 21\n",
      "7 x 4 = 28\n",
      "7 x 5 = 35\n",
      "7 x 6 = 42\n",
      "7 x 7 = 49\n",
      "7 x 8 = 56\n",
      "7 x 9 = 63\n",
      "7 x 10 = 70\n",
      "7 x 11 = 77\n",
      "7 x 12 = 84\n",
      "--- 8 times table ---\n",
      "8 x 1 = 8\n",
      "8 x 2 = 16\n",
      "8 x 3 = 24\n",
      "8 x 4 = 32\n",
      "8 x 5 = 40\n",
      "8 x 6 = 48\n",
      "8 x 7 = 56\n",
      "8 x 8 = 64\n",
      "8 x 9 = 72\n",
      "8 x 10 = 80\n",
      "8 x 11 = 88\n",
      "8 x 12 = 96\n",
      "--- 9 times table ---\n",
      "9 x 1 = 9\n",
      "9 x 2 = 18\n",
      "9 x 3 = 27\n",
      "9 x 4 = 36\n",
      "9 x 5 = 45\n",
      "9 x 6 = 54\n",
      "9 x 7 = 63\n",
      "9 x 8 = 72\n",
      "9 x 9 = 81\n",
      "9 x 10 = 90\n",
      "9 x 11 = 99\n",
      "9 x 12 = 108\n",
      "--- 10 times table ---\n",
      "10 x 1 = 10\n",
      "10 x 2 = 20\n",
      "10 x 3 = 30\n",
      "10 x 4 = 40\n",
      "10 x 5 = 50\n",
      "10 x 6 = 60\n",
      "10 x 7 = 70\n",
      "10 x 8 = 80\n",
      "10 x 9 = 90\n",
      "10 x 10 = 100\n",
      "10 x 11 = 110\n",
      "10 x 12 = 120\n",
      "--- 11 times table ---\n",
      "11 x 1 = 11\n",
      "11 x 2 = 22\n",
      "11 x 3 = 33\n",
      "11 x 4 = 44\n",
      "11 x 5 = 55\n",
      "11 x 6 = 66\n",
      "11 x 7 = 77\n",
      "11 x 8 = 88\n",
      "11 x 9 = 99\n",
      "11 x 10 = 110\n",
      "11 x 11 = 121\n",
      "11 x 12 = 132\n",
      "--- 12 times table ---\n",
      "12 x 1 = 12\n",
      "12 x 2 = 24\n",
      "12 x 3 = 36\n",
      "12 x 4 = 48\n",
      "12 x 5 = 60\n",
      "12 x 6 = 72\n",
      "12 x 7 = 84\n",
      "12 x 8 = 96\n",
      "12 x 9 = 108\n",
      "12 x 10 = 120\n",
      "12 x 11 = 132\n",
      "12 x 12 = 144\n"
     ]
    }
   ],
   "source": [
    "for i in range(2, 13):\n",
    "    print(f\"--- {i} times table ---\")\n",
    "    for j in range(1,13):\n",
    "        print(f\"{i} x {j} = {i * j}\")"
   ]
  },
  {
   "cell_type": "code",
   "execution_count": 21,
   "id": "775de52a",
   "metadata": {},
   "outputs": [
    {
     "ename": "IndentationError",
     "evalue": "expected an indented block (1131029255.py, line 4)",
     "output_type": "error",
     "traceback": [
      "\u001b[0;36m  Cell \u001b[0;32mIn[21], line 4\u001b[0;36m\u001b[0m\n\u001b[0;31m    print(f\"{i} x {j} = {i * j}\")\u001b[0m\n\u001b[0m    ^\u001b[0m\n\u001b[0;31mIndentationError\u001b[0m\u001b[0;31m:\u001b[0m expected an indented block\n"
     ]
    }
   ],
   "source": [
    "for i in range(2, 13):\n",
    "    print(f\"--- {i} times table ---\")\n",
    "    for j in range(1,13):\n",
    "    print(f\"{i} x {j} = {i * j}\")"
   ]
  }
 ],
 "metadata": {
  "kernelspec": {
   "display_name": "Python 3",
   "language": "python",
   "name": "python3"
  },
  "language_info": {
   "codemirror_mode": {
    "name": "ipython",
    "version": 3
   },
   "file_extension": ".py",
   "mimetype": "text/x-python",
   "name": "python",
   "nbconvert_exporter": "python",
   "pygments_lexer": "ipython3",
   "version": "3.9.6"
  }
 },
 "nbformat": 4,
 "nbformat_minor": 5
}
