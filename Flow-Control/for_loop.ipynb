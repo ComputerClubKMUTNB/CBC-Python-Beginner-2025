{
 "cells": [
  {
   "cell_type": "markdown",
   "id": "b686802c",
   "metadata": {},
   "source": [
    "Python for Loop Statement"
   ]
  },
  {
   "cell_type": "code",
   "execution_count": null,
   "id": "896cb0f9",
   "metadata": {},
   "outputs": [],
   "source": [
    "#for loop Syntax\n",
    "\n",
    "#for i in sequence:\n",
    "    #run this process"
   ]
  },
  {
   "cell_type": "markdown",
   "id": "cbfa89cd",
   "metadata": {},
   "source": [
    "for Loop With A List"
   ]
  },
  {
   "cell_type": "code",
   "execution_count": null,
   "id": "89aee818",
   "metadata": {},
   "outputs": [],
   "source": [
    "#List\n",
    "sentence = [\"P'\", \"Kaning\", \"Sut\", \"Lhor\"]\n",
    "\n",
    "#for loop statement\n",
    "for word in sentence:\n",
    "    print(word)"
   ]
  },
  {
   "cell_type": "code",
   "execution_count": null,
   "id": "90ab0f40",
   "metadata": {},
   "outputs": [],
   "source": [
    "#List\n",
    "sentence = [\"P'\", \"Kaning\", \"Sud\", \"Lhor\"]\n",
    "\n",
    "#for loop statement\n",
    "for word in sentence:\n",
    "    print(word)\n",
    "\n",
    "#outside for loop\n",
    "print(\"😎\")"
   ]
  },
  {
   "cell_type": "code",
   "execution_count": null,
   "id": "2ae9f2fb",
   "metadata": {},
   "outputs": [],
   "source": [
    "#List\n",
    "sentence = [\"P'\", \"Kaning\", \"Sud\", \"Lhor\"]\n",
    "\n",
    "#for loop statement\n",
    "for word in sentence:\n",
    "print(word)        #Indentation Error"
   ]
  },
  {
   "cell_type": "code",
   "execution_count": null,
   "id": "9235236b",
   "metadata": {},
   "outputs": [],
   "source": [
    "#List\n",
    "sentence = [\"P'\", \"Kaning\", \"Sud\", \"Lhor\"]\n",
    "\n",
    "#for loop statement\n",
    "for word in sentence:\n",
    "    print(words)        #Indentation Error"
   ]
  },
  {
   "cell_type": "code",
   "execution_count": null,
   "id": "9299c3e5",
   "metadata": {},
   "outputs": [],
   "source": [
    "#List\n",
    "sentence = [\"P'\", \"Kaning\", \"Sud\", \"Lhor\"]\n",
    "\n",
    "#for loop statement\n",
    "for word in sentences:\n",
    "    print(word)        #Indentation Error"
   ]
  },
  {
   "cell_type": "code",
   "execution_count": null,
   "id": "1981e3d6",
   "metadata": {},
   "outputs": [],
   "source": [
    "#List\n",
    "body = [\"(.Y.)\", \" ) (\", \"( Y )\"]        #อันนี้ห้ามออกสื่อ\n",
    "\n",
    "#for loop statement\n",
    "for parts in body:\n",
    "    print(parts)"
   ]
  },
  {
   "cell_type": "code",
   "execution_count": null,
   "id": "b780be3a",
   "metadata": {},
   "outputs": [],
   "source": [
    "#List\n",
    "sequence = [0, 1, 2, 3, 4]\n",
    "\n",
    "#for loop statement\n",
    "for lumdub in sequence:\n",
    "    print(lumdub)"
   ]
  },
  {
   "cell_type": "code",
   "execution_count": null,
   "id": "19daa9e6",
   "metadata": {},
   "outputs": [],
   "source": [
    "#List\n",
    "sequence = [0, 1, 2, 3, 4]\n",
    "\n",
    "#for loop statement\n",
    "for lumdub in sequence:\n",
    "    print(\"CBC Python Beginner 2025\")"
   ]
  },
  {
   "cell_type": "markdown",
   "id": "a039de2b",
   "metadata": {},
   "source": [
    "for Loop Through A String"
   ]
  },
  {
   "cell_type": "code",
   "execution_count": null,
   "id": "182f6f65",
   "metadata": {},
   "outputs": [],
   "source": [
    "#String\n",
    "university = 'KMUTNB'\n",
    "\n",
    "#for loop statement\n",
    "for alphabet in university:\n",
    "    print(alphabet)"
   ]
  },
  {
   "cell_type": "code",
   "execution_count": null,
   "id": "183fa50c",
   "metadata": {},
   "outputs": [],
   "source": [
    "#String\n",
    "mahawittayalai = \"King Mongkut's University of Technology North Bangkok\"\n",
    "\n",
    "#for loop statement\n",
    "for alphabet in mahawittayalai:\n",
    "    print(alphabet)"
   ]
  },
  {
   "cell_type": "markdown",
   "id": "592c98e1",
   "metadata": {},
   "source": [
    "for Loop With Range"
   ]
  },
  {
   "cell_type": "code",
   "execution_count": null,
   "id": "ad375add",
   "metadata": {},
   "outputs": [],
   "source": [
    "#for loop statement\n",
    "for lumdub in range(0, 5):\n",
    "    print(lumdub)"
   ]
  },
  {
   "cell_type": "code",
   "execution_count": null,
   "id": "20da2efd",
   "metadata": {},
   "outputs": [],
   "source": [
    "#for loop statement\n",
    "for lumdub in range(0, 5):\n",
    "    print(\"Mai Wai Laew\")"
   ]
  },
  {
   "cell_type": "code",
   "execution_count": null,
   "id": "226e760f",
   "metadata": {},
   "outputs": [],
   "source": [
    "#for loop statement\n",
    "for lumdub in range(1, 10):\n",
    "    print(lumdub)"
   ]
  },
  {
   "cell_type": "markdown",
   "id": "0361546e",
   "metadata": {},
   "source": [
    "Break and Continue Statement"
   ]
  },
  {
   "cell_type": "code",
   "execution_count": null,
   "id": "8ea05cea",
   "metadata": {},
   "outputs": [],
   "source": [
    "#List\n",
    "sentence = [\"P'\", \"Karn\", \"Hew\", \"Kao\", \"Mak\", \"Mak\"]\n",
    "\n",
    "#for loop statement\n",
    "for word in sentence:\n",
    "    if word == \"Kao\":\n",
    "        break\n",
    "    print(word)"
   ]
  },
  {
   "cell_type": "code",
   "execution_count": null,
   "id": "24004c38",
   "metadata": {},
   "outputs": [],
   "source": [
    "#List\n",
    "sentence = [\"P'\", \"Karn\", \"Hew\", \"Kao\", \"Mak\", \"Mak\"]\n",
    "\n",
    "#for loop statement\n",
    "for word in sentence:\n",
    "    if word == \"Kao\":\n",
    "        continue\n",
    "    print(word)"
   ]
  },
  {
   "cell_type": "markdown",
   "id": "b8d951ce",
   "metadata": {},
   "source": [
    "Nested for loop"
   ]
  },
  {
   "cell_type": "code",
   "execution_count": null,
   "id": "9ce582a4",
   "metadata": {},
   "outputs": [],
   "source": [
    "#List\n",
    "staff = [\"P'Kaning\", \"P'Karn\", \"P'Petong\"]\n",
    "action = [\"Sut Lhor\", \"Hew Kao\", \"Puad Lung\"]\n",
    "\n",
    "#for loop\n",
    "for name in staff:\n",
    "    #for loop\n",
    "    for verb in action:\n",
    "        print(name, verb)\n",
    "    \n",
    "    #outside second for loop\n",
    "    print(\"-------------------\")\n"
   ]
  },
  {
   "cell_type": "code",
   "execution_count": null,
   "id": "57e0a5a8",
   "metadata": {},
   "outputs": [],
   "source": [
    "#List\n",
    "alphabet = [\"C\", \"B\", \"A\"]\n",
    "number = [2, 1]\n",
    "\n",
    "print(\"English Language Level From High To Low (CEFR)\")\n",
    "#for loop statement\n",
    "for i in alphabet:\n",
    "    #for loop statement\n",
    "    for j in number:\n",
    "        print(f'{i}{j}')"
   ]
  },
  {
   "cell_type": "code",
   "execution_count": null,
   "id": "f97cf1e4",
   "metadata": {},
   "outputs": [],
   "source": [
    "#List\n",
    "alphabet = [\"A\", \"B\", \"C\"]\n",
    "number = [1, 2]\n",
    "\n",
    "print(\"English Language Level From High To Low (CEFR)\")\n",
    "#for loop statement\n",
    "for i in alphabet[::-1]:\n",
    "    #for loop statement\n",
    "    for j in number[::-1]:\n",
    "        print(f'{i}{j}')"
   ]
  },
  {
   "cell_type": "code",
   "execution_count": null,
   "id": "880316a2",
   "metadata": {},
   "outputs": [
    {
     "name": "stdout",
     "output_type": "stream",
     "text": [
      "0 1 2 3 4\n"
     ]
    }
   ],
   "source": [
    "\"\"\"\n",
    "Start   : 0 (default)\n",
    "Stop    : 5\n",
    "Step    : 1 (default)\n",
    "\"\"\"\n",
    "print(*range(5))"
   ]
  },
  {
   "cell_type": "code",
   "execution_count": null,
   "id": "34ecfb5c",
   "metadata": {},
   "outputs": [
    {
     "name": "stdout",
     "output_type": "stream",
     "text": [
      "1 2 3 4\n"
     ]
    }
   ],
   "source": [
    "\"\"\"\n",
    "Start   : 1\n",
    "Stop    : 5\n",
    "Step    : 1 (default)\n",
    "\"\"\"\n",
    "print(*range(1, 5))"
   ]
  },
  {
   "cell_type": "code",
   "execution_count": null,
   "id": "581961ce",
   "metadata": {},
   "outputs": [
    {
     "name": "stdout",
     "output_type": "stream",
     "text": [
      "7 10 13 16 19 22\n"
     ]
    }
   ],
   "source": [
    "\"\"\"\n",
    "Start   : 7\n",
    "Stop    : 23\n",
    "Step    : 3\n",
    "\"\"\"\n",
    "print(*range(7, 23, 3))"
   ]
  },
  {
   "cell_type": "code",
   "execution_count": null,
   "id": "0f3b657a",
   "metadata": {},
   "outputs": [
    {
     "name": "stdout",
     "output_type": "stream",
     "text": [
      "0 -1 -2 -3 -4\n"
     ]
    }
   ],
   "source": [
    "\"\"\"\n",
    "Start   : 0\n",
    "Stop    : -5\n",
    "Step    : -1\n",
    "\"\"\"\n",
    "print(*range(0, -5, -1))"
   ]
  }
 ],
 "metadata": {
  "kernelspec": {
   "display_name": "Python 3",
   "language": "python",
   "name": "python3"
  },
  "language_info": {
   "codemirror_mode": {
    "name": "ipython",
    "version": 3
   },
   "file_extension": ".py",
   "mimetype": "text/x-python",
   "name": "python",
   "nbconvert_exporter": "python",
   "pygments_lexer": "ipython3",
   "version": "3.9.6"
  }
 },
 "nbformat": 4,
 "nbformat_minor": 5
}
