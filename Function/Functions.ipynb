{
 "cells": [
  {
   "cell_type": "markdown",
   "id": "48c2474b",
   "metadata": {},
   "source": [
    "# Python Functions"
   ]
  },
  {
   "cell_type": "code",
   "execution_count": 6,
   "id": "6b38491b",
   "metadata": {},
   "outputs": [],
   "source": [
    "def sawaddee():\n",
    "    print(\"Sawaddee Krub\")"
   ]
  },
  {
   "cell_type": "code",
   "execution_count": 8,
   "id": "e863ee03",
   "metadata": {},
   "outputs": [
    {
     "name": "stdout",
     "output_type": "stream",
     "text": [
      "Sawaddee Krub\n"
     ]
    }
   ],
   "source": [
    "#function call\n",
    "sawaddee()"
   ]
  },
  {
   "cell_type": "code",
   "execution_count": 9,
   "id": "7ae4a474",
   "metadata": {},
   "outputs": [
    {
     "name": "stdout",
     "output_type": "stream",
     "text": [
      "Sawaddee Krub\n",
      "Outside a function\n"
     ]
    }
   ],
   "source": [
    "#function call\n",
    "sawaddee()\n",
    "print(\"Outside a function\")"
   ]
  },
  {
   "cell_type": "markdown",
   "id": "8cc29e73",
   "metadata": {},
   "source": [
    "# Function Arguments"
   ]
  },
  {
   "cell_type": "code",
   "execution_count": 12,
   "id": "65b99110",
   "metadata": {},
   "outputs": [],
   "source": [
    "def sawaddee(name):\n",
    "    print(\"Sawaddee Krub\", name)"
   ]
  },
  {
   "cell_type": "code",
   "execution_count": 15,
   "id": "ec8b1e97",
   "metadata": {},
   "outputs": [
    {
     "name": "stdout",
     "output_type": "stream",
     "text": [
      "Sawaddee Krub P'Kaning\n"
     ]
    }
   ],
   "source": [
    "#function call\n",
    "sawaddee(\"P'Kaning\")"
   ]
  },
  {
   "cell_type": "code",
   "execution_count": 16,
   "id": "1f8a40a8",
   "metadata": {},
   "outputs": [
    {
     "name": "stdout",
     "output_type": "stream",
     "text": [
      "Sawaddee Krub P'Jay\n"
     ]
    }
   ],
   "source": [
    "#function call\n",
    "sawaddee(\"P'Jay\")"
   ]
  },
  {
   "cell_type": "code",
   "execution_count": 39,
   "id": "a6201744",
   "metadata": {},
   "outputs": [],
   "source": [
    "def adder(int_1, int_2):\n",
    "    sum = int_1 + int_2\n",
    "    return sum"
   ]
  },
  {
   "cell_type": "code",
   "execution_count": 40,
   "id": "2c85329e",
   "metadata": {},
   "outputs": [
    {
     "data": {
      "text/plain": [
       "11"
      ]
     },
     "execution_count": 40,
     "metadata": {},
     "output_type": "execute_result"
    }
   ],
   "source": [
    "#function call\n",
    "adder(1, 10)"
   ]
  },
  {
   "cell_type": "markdown",
   "id": "e78017ca",
   "metadata": {},
   "source": [
    "# pass Statement in Function"
   ]
  },
  {
   "cell_type": "code",
   "execution_count": 42,
   "id": "bb8ae03f",
   "metadata": {},
   "outputs": [],
   "source": [
    "def deawMaTum():\n",
    "    pass"
   ]
  },
  {
   "cell_type": "code",
   "execution_count": 43,
   "id": "7faa9a76",
   "metadata": {},
   "outputs": [],
   "source": [
    "deawMaTum()"
   ]
  }
 ],
 "metadata": {
  "kernelspec": {
   "display_name": "Python 3",
   "language": "python",
   "name": "python3"
  },
  "language_info": {
   "codemirror_mode": {
    "name": "ipython",
    "version": 3
   },
   "file_extension": ".py",
   "mimetype": "text/x-python",
   "name": "python",
   "nbconvert_exporter": "python",
   "pygments_lexer": "ipython3",
   "version": "3.13.2"
  }
 },
 "nbformat": 4,
 "nbformat_minor": 5
}
