{
 "cells": [
  {
   "cell_type": "markdown",
   "id": "48c2474b",
   "metadata": {},
   "source": [
    "# Python Functions"
   ]
  },
  {
   "cell_type": "code",
   "execution_count": 8,
   "id": "898503d4",
   "metadata": {},
   "outputs": [],
   "source": [
    "#function Syntax\n",
    "#def name():\n",
    "    #code inside function"
   ]
  },
  {
   "cell_type": "code",
   "execution_count": 9,
   "id": "6b38491b",
   "metadata": {},
   "outputs": [],
   "source": [
    "#define a function\n",
    "def sawaddee():\n",
    "    print(\"Sawaddee Krub\")"
   ]
  },
  {
   "cell_type": "code",
   "execution_count": 10,
   "id": "329d8e83",
   "metadata": {},
   "outputs": [
    {
     "ename": "IndentationError",
     "evalue": "expected an indented block after function definition on line 2 (613447946.py, line 3)",
     "output_type": "error",
     "traceback": [
      "  \u001b[36mCell\u001b[39m\u001b[36m \u001b[39m\u001b[32mIn[10]\u001b[39m\u001b[32m, line 3\u001b[39m\n\u001b[31m    \u001b[39m\u001b[31mprint(\"Sawaddee Krub\")\u001b[39m\n    ^\n\u001b[31mIndentationError\u001b[39m\u001b[31m:\u001b[39m expected an indented block after function definition on line 2\n"
     ]
    }
   ],
   "source": [
    "#Indentation Error\n",
    "def sawaddee():\n",
    "print(\"Sawaddee Krub\")"
   ]
  },
  {
   "cell_type": "code",
   "execution_count": 11,
   "id": "e863ee03",
   "metadata": {},
   "outputs": [
    {
     "name": "stdout",
     "output_type": "stream",
     "text": [
      "Sawaddee Krub\n"
     ]
    }
   ],
   "source": [
    "#function call\n",
    "sawaddee()"
   ]
  },
  {
   "cell_type": "code",
   "execution_count": 12,
   "id": "7ae4a474",
   "metadata": {},
   "outputs": [
    {
     "name": "stdout",
     "output_type": "stream",
     "text": [
      "Sawaddee Krub\n",
      "Outside a function\n"
     ]
    }
   ],
   "source": [
    "#function call\n",
    "sawaddee()\n",
    "print(\"Outside a function\")"
   ]
  },
  {
   "cell_type": "markdown",
   "id": "e78017ca",
   "metadata": {},
   "source": [
    "### pass Statement in Function"
   ]
  },
  {
   "cell_type": "code",
   "execution_count": 13,
   "id": "bb8ae03f",
   "metadata": {},
   "outputs": [],
   "source": [
    "def deawMaTum():\n",
    "    pass"
   ]
  },
  {
   "cell_type": "code",
   "execution_count": 14,
   "id": "7faa9a76",
   "metadata": {},
   "outputs": [],
   "source": [
    "deawMaTum()"
   ]
  },
  {
   "cell_type": "markdown",
   "id": "8cc29e73",
   "metadata": {},
   "source": [
    "## Function Arguments"
   ]
  },
  {
   "cell_type": "code",
   "execution_count": null,
   "id": "65b99110",
   "metadata": {},
   "outputs": [],
   "source": [
    "def sawaddee(name):\n",
    "    print(\"Sawaddee Krub\", name)"
   ]
  },
  {
   "cell_type": "code",
   "execution_count": null,
   "id": "ec8b1e97",
   "metadata": {},
   "outputs": [],
   "source": [
    "#function call\n",
    "sawaddee(\"P'Kaning\")"
   ]
  },
  {
   "cell_type": "code",
   "execution_count": null,
   "id": "1f8a40a8",
   "metadata": {},
   "outputs": [],
   "source": [
    "#function call\n",
    "sawaddee(\"P'Jay\")"
   ]
  },
  {
   "cell_type": "code",
   "execution_count": null,
   "id": "995e4597",
   "metadata": {},
   "outputs": [],
   "source": [
    "#Type Error\n",
    "sawaddee(\"P'Jay\", \"P'Sun\")"
   ]
  },
  {
   "cell_type": "code",
   "execution_count": null,
   "id": "a6201744",
   "metadata": {},
   "outputs": [],
   "source": [
    "def adder(int_1, int_2):\n",
    "    sum = int_1 + int_2\n",
    "    return sum"
   ]
  },
  {
   "cell_type": "code",
   "execution_count": null,
   "id": "2c85329e",
   "metadata": {},
   "outputs": [],
   "source": [
    "#function call\n",
    "print(adder(1, 10))"
   ]
  },
  {
   "cell_type": "code",
   "execution_count": null,
   "id": "b569ba44",
   "metadata": {},
   "outputs": [],
   "source": [
    "def add_numbers(int_1 = 1, int_2 = 3):\n",
    "    sum = int_1 + int_2\n",
    "    return sum"
   ]
  },
  {
   "cell_type": "code",
   "execution_count": null,
   "id": "423286af",
   "metadata": {},
   "outputs": [],
   "source": [
    "#function call\n",
    "print(add_numbers(71, 29))"
   ]
  },
  {
   "cell_type": "code",
   "execution_count": null,
   "id": "4c7de366",
   "metadata": {},
   "outputs": [],
   "source": [
    "#function call\n",
    "print(add_numbers())"
   ]
  },
  {
   "cell_type": "markdown",
   "id": "7cef7cd8",
   "metadata": {},
   "source": [
    "### Function Keyword Arguments"
   ]
  },
  {
   "cell_type": "code",
   "execution_count": null,
   "id": "3188da16",
   "metadata": {},
   "outputs": [],
   "source": [
    "def show_info(name, id):\n",
    "    print(f'Name: {name}')\n",
    "    print(f'ID: {id}')"
   ]
  },
  {
   "cell_type": "code",
   "execution_count": null,
   "id": "31ebc840",
   "metadata": {},
   "outputs": [],
   "source": [
    "#function call\n",
    "show_info(id = 66, name = \"Pu\")"
   ]
  },
  {
   "cell_type": "markdown",
   "id": "984e9969",
   "metadata": {},
   "source": [
    "### Function With Arbitrary Arguments"
   ]
  },
  {
   "cell_type": "code",
   "execution_count": null,
   "id": "50145750",
   "metadata": {},
   "outputs": [],
   "source": [
    "#define a function\n",
    "def calc_sum(*numbers):\n",
    "    sum = 0\n",
    "\n",
    "    #for loop\n",
    "    for num in numbers:\n",
    "        sum = sum + num\n",
    "\n",
    "    print(sum)"
   ]
  },
  {
   "cell_type": "code",
   "execution_count": null,
   "id": "b4cfb717",
   "metadata": {},
   "outputs": [],
   "source": [
    "#function call\n",
    "calc_sum(1, 2, 3, 4, 5)\n",
    "calc_sum(37, 63)"
   ]
  },
  {
   "cell_type": "markdown",
   "id": "abb17dd8",
   "metadata": {},
   "source": [
    "## Variable Scope"
   ]
  },
  {
   "cell_type": "markdown",
   "id": "cf1abd54",
   "metadata": {},
   "source": [
    "### Local Variables"
   ]
  },
  {
   "cell_type": "code",
   "execution_count": 1,
   "id": "90f9dc9d",
   "metadata": {},
   "outputs": [],
   "source": [
    "#local variable\n",
    "#define a function\n",
    "def greet():\n",
    "    message = \"Hi\"\n",
    "    print(\"Local:\", message)"
   ]
  },
  {
   "cell_type": "code",
   "execution_count": 2,
   "id": "0f4087d0",
   "metadata": {},
   "outputs": [
    {
     "name": "stdout",
     "output_type": "stream",
     "text": [
      "Local: Hi\n"
     ]
    },
    {
     "ename": "NameError",
     "evalue": "name 'message' is not defined",
     "output_type": "error",
     "traceback": [
      "\u001b[31m---------------------------------------------------------------------------\u001b[39m",
      "\u001b[31mNameError\u001b[39m                                 Traceback (most recent call last)",
      "\u001b[36mCell\u001b[39m\u001b[36m \u001b[39m\u001b[32mIn[2]\u001b[39m\u001b[32m, line 3\u001b[39m\n\u001b[32m      1\u001b[39m \u001b[38;5;66;03m#Name Error\u001b[39;00m\n\u001b[32m      2\u001b[39m greet()\n\u001b[32m----> \u001b[39m\u001b[32m3\u001b[39m \u001b[38;5;28mprint\u001b[39m(\u001b[43mmessage\u001b[49m)\n",
      "\u001b[31mNameError\u001b[39m: name 'message' is not defined"
     ]
    }
   ],
   "source": [
    "#Name Error\n",
    "greet()\n",
    "print(message)"
   ]
  },
  {
   "cell_type": "markdown",
   "id": "c0ec8de6",
   "metadata": {},
   "source": [
    "### Global Variables"
   ]
  },
  {
   "cell_type": "code",
   "execution_count": 3,
   "id": "e032e559",
   "metadata": {},
   "outputs": [
    {
     "name": "stdout",
     "output_type": "stream",
     "text": [
      "Local: Hello\n",
      "Global: Hello\n"
     ]
    }
   ],
   "source": [
    "#assign variable\n",
    "phrase = \"Hello\"\n",
    "\n",
    "#define a function\n",
    "def greet():\n",
    "    print(\"Local:\", phrase)\n",
    "\n",
    "greet()\n",
    "print(\"Global:\", phrase)"
   ]
  },
  {
   "cell_type": "markdown",
   "id": "0ba8d24a",
   "metadata": {},
   "source": [
    "## Lambda Function"
   ]
  },
  {
   "cell_type": "code",
   "execution_count": 4,
   "id": "c1587cd7",
   "metadata": {},
   "outputs": [],
   "source": [
    "#lambda Syntax\n",
    "#lambda argument : expression"
   ]
  },
  {
   "cell_type": "code",
   "execution_count": 5,
   "id": "e33452b7",
   "metadata": {},
   "outputs": [
    {
     "name": "stdout",
     "output_type": "stream",
     "text": [
      "11\n"
     ]
    }
   ],
   "source": [
    "#define a function\n",
    "add_ten = lambda n : n + 10\n",
    "\n",
    "#function call\n",
    "print(add_ten(1))"
   ]
  },
  {
   "cell_type": "code",
   "execution_count": 6,
   "id": "c1bb4400",
   "metadata": {},
   "outputs": [
    {
     "name": "stdout",
     "output_type": "stream",
     "text": [
      "56\n"
     ]
    }
   ],
   "source": [
    "#define a function\n",
    "calc_multiply = lambda a, b : a * b\n",
    "\n",
    "#function call\n",
    "print(calc_multiply(7, 8))"
   ]
  },
  {
   "cell_type": "code",
   "execution_count": 7,
   "id": "808b209d",
   "metadata": {},
   "outputs": [
    {
     "name": "stdout",
     "output_type": "stream",
     "text": [
      "30\n"
     ]
    }
   ],
   "source": [
    "#define a funciton\n",
    "find_sum = lambda a, b, c : a + b + c\n",
    "\n",
    "#function call\n",
    "print(find_sum(5, 12, 13))"
   ]
  }
 ],
 "metadata": {
  "kernelspec": {
   "display_name": "Python 3",
   "language": "python",
   "name": "python3"
  },
  "language_info": {
   "codemirror_mode": {
    "name": "ipython",
    "version": 3
   },
   "file_extension": ".py",
   "mimetype": "text/x-python",
   "name": "python",
   "nbconvert_exporter": "python",
   "pygments_lexer": "ipython3",
   "version": "3.13.2"
  }
 },
 "nbformat": 4,
 "nbformat_minor": 5
}
