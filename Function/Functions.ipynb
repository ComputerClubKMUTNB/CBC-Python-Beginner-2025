{
 "cells": [
  {
   "cell_type": "markdown",
   "id": "48c2474b",
   "metadata": {},
   "source": [
    "# Python Functions"
   ]
  },
  {
   "cell_type": "code",
   "execution_count": 1,
   "id": "898503d4",
   "metadata": {},
   "outputs": [],
   "source": [
    "#function Syntax\n",
    "#def name():\n",
    "    #code inside function"
   ]
  },
  {
   "cell_type": "code",
   "execution_count": 2,
   "id": "6b38491b",
   "metadata": {},
   "outputs": [],
   "source": [
    "#define a function\n",
    "def sawaddee():\n",
    "    print(\"Sawaddee Krub\")"
   ]
  },
  {
   "cell_type": "code",
   "execution_count": 3,
   "id": "329d8e83",
   "metadata": {},
   "outputs": [
    {
     "ename": "IndentationError",
     "evalue": "expected an indented block after function definition on line 2 (613447946.py, line 3)",
     "output_type": "error",
     "traceback": [
      "  \u001b[36mCell\u001b[39m\u001b[36m \u001b[39m\u001b[32mIn[3]\u001b[39m\u001b[32m, line 3\u001b[39m\n\u001b[31m    \u001b[39m\u001b[31mprint(\"Sawaddee Krub\")\u001b[39m\n    ^\n\u001b[31mIndentationError\u001b[39m\u001b[31m:\u001b[39m expected an indented block after function definition on line 2\n"
     ]
    }
   ],
   "source": [
    "#Indentation Error\n",
    "def sawaddee():\n",
    "print(\"Sawaddee Krub\")"
   ]
  },
  {
   "cell_type": "code",
   "execution_count": 4,
   "id": "e863ee03",
   "metadata": {},
   "outputs": [
    {
     "name": "stdout",
     "output_type": "stream",
     "text": [
      "Sawaddee Krub\n"
     ]
    }
   ],
   "source": [
    "#function call\n",
    "sawaddee()"
   ]
  },
  {
   "cell_type": "code",
   "execution_count": 5,
   "id": "7ae4a474",
   "metadata": {},
   "outputs": [
    {
     "name": "stdout",
     "output_type": "stream",
     "text": [
      "Sawaddee Krub\n",
      "Outside a function\n"
     ]
    }
   ],
   "source": [
    "#function call\n",
    "sawaddee()\n",
    "print(\"Outside a function\")"
   ]
  },
  {
   "cell_type": "markdown",
   "id": "e78017ca",
   "metadata": {},
   "source": [
    "### pass Statement in Function"
   ]
  },
  {
   "cell_type": "code",
   "execution_count": 6,
   "id": "bb8ae03f",
   "metadata": {},
   "outputs": [],
   "source": [
    "def deawMaTum():\n",
    "    pass"
   ]
  },
  {
   "cell_type": "code",
   "execution_count": 7,
   "id": "7faa9a76",
   "metadata": {},
   "outputs": [],
   "source": [
    "deawMaTum()"
   ]
  },
  {
   "cell_type": "markdown",
   "id": "8cc29e73",
   "metadata": {},
   "source": [
    "## Function Arguments"
   ]
  },
  {
   "cell_type": "code",
   "execution_count": 8,
   "id": "65b99110",
   "metadata": {},
   "outputs": [],
   "source": [
    "def sawaddee(name):\n",
    "    print(\"Sawaddee Krub\", name)"
   ]
  },
  {
   "cell_type": "code",
   "execution_count": 9,
   "id": "ec8b1e97",
   "metadata": {},
   "outputs": [
    {
     "name": "stdout",
     "output_type": "stream",
     "text": [
      "Sawaddee Krub P'Kaning\n"
     ]
    }
   ],
   "source": [
    "#function call\n",
    "sawaddee(\"P'Kaning\")"
   ]
  },
  {
   "cell_type": "code",
   "execution_count": 10,
   "id": "1f8a40a8",
   "metadata": {},
   "outputs": [
    {
     "name": "stdout",
     "output_type": "stream",
     "text": [
      "Sawaddee Krub P'Jay\n"
     ]
    }
   ],
   "source": [
    "#function call\n",
    "sawaddee(\"P'Jay\")"
   ]
  },
  {
   "cell_type": "code",
   "execution_count": 11,
   "id": "995e4597",
   "metadata": {},
   "outputs": [
    {
     "ename": "TypeError",
     "evalue": "sawaddee() takes 1 positional argument but 2 were given",
     "output_type": "error",
     "traceback": [
      "\u001b[31m---------------------------------------------------------------------------\u001b[39m",
      "\u001b[31mTypeError\u001b[39m                                 Traceback (most recent call last)",
      "\u001b[36mCell\u001b[39m\u001b[36m \u001b[39m\u001b[32mIn[11]\u001b[39m\u001b[32m, line 2\u001b[39m\n\u001b[32m      1\u001b[39m \u001b[38;5;66;03m#Type Error\u001b[39;00m\n\u001b[32m----> \u001b[39m\u001b[32m2\u001b[39m \u001b[43msawaddee\u001b[49m\u001b[43m(\u001b[49m\u001b[33;43m\"\u001b[39;49m\u001b[33;43mP\u001b[39;49m\u001b[33;43m'\u001b[39;49m\u001b[33;43mJay\u001b[39;49m\u001b[33;43m\"\u001b[39;49m\u001b[43m,\u001b[49m\u001b[43m \u001b[49m\u001b[33;43m\"\u001b[39;49m\u001b[33;43mP\u001b[39;49m\u001b[33;43m'\u001b[39;49m\u001b[33;43mSun\u001b[39;49m\u001b[33;43m\"\u001b[39;49m\u001b[43m)\u001b[49m\n",
      "\u001b[31mTypeError\u001b[39m: sawaddee() takes 1 positional argument but 2 were given"
     ]
    }
   ],
   "source": [
    "#Type Error\n",
    "sawaddee(\"P'Jay\", \"P'Sun\")"
   ]
  },
  {
   "cell_type": "code",
   "execution_count": 12,
   "id": "babf7346",
   "metadata": {},
   "outputs": [],
   "source": [
    "def adder(int_1, int_2):\n",
    "    sum = int_1 + int_2\n",
    "    print(sum)"
   ]
  },
  {
   "cell_type": "code",
   "execution_count": 13,
   "id": "1d37fe3d",
   "metadata": {},
   "outputs": [
    {
     "name": "stdout",
     "output_type": "stream",
     "text": [
      "3\n",
      "12\n",
      "165\n"
     ]
    }
   ],
   "source": [
    "adder(1, 2)\n",
    "adder(5, 7)\n",
    "adder(77, 88)"
   ]
  },
  {
   "cell_type": "markdown",
   "id": "fad94779",
   "metadata": {},
   "source": [
    "### return Statement"
   ]
  },
  {
   "cell_type": "code",
   "execution_count": 14,
   "id": "df4d1273",
   "metadata": {},
   "outputs": [],
   "source": [
    "#define a function\n",
    "def adder(int_1, int_2):\n",
    "    sum = int_1 + int_2\n",
    "    return sum"
   ]
  },
  {
   "cell_type": "code",
   "execution_count": 15,
   "id": "ceca3114",
   "metadata": {},
   "outputs": [
    {
     "name": "stdout",
     "output_type": "stream",
     "text": [
      "11\n"
     ]
    }
   ],
   "source": [
    "#function call\n",
    "x = adder(1, 10)\n",
    "\n",
    "print(x)"
   ]
  },
  {
   "cell_type": "code",
   "execution_count": 16,
   "id": "2c85329e",
   "metadata": {},
   "outputs": [
    {
     "name": "stdout",
     "output_type": "stream",
     "text": [
      "11\n"
     ]
    }
   ],
   "source": [
    "#function call\n",
    "print(adder(1, 10))"
   ]
  },
  {
   "cell_type": "markdown",
   "id": "d4ceeda3",
   "metadata": {},
   "source": [
    "### Default Values"
   ]
  },
  {
   "cell_type": "code",
   "execution_count": 17,
   "id": "b194b4e0",
   "metadata": {},
   "outputs": [],
   "source": [
    "#define a function\n",
    "def add_numbers(int_1 = 20, int_2 = 25):\n",
    "    sum = int_1 + int_2\n",
    "    return sum"
   ]
  },
  {
   "cell_type": "code",
   "execution_count": 18,
   "id": "04e02a15",
   "metadata": {},
   "outputs": [
    {
     "name": "stdout",
     "output_type": "stream",
     "text": [
      "78\n"
     ]
    }
   ],
   "source": [
    "#function call\n",
    "print(add_numbers(19, 59))"
   ]
  },
  {
   "cell_type": "code",
   "execution_count": 19,
   "id": "4c7d7a97",
   "metadata": {},
   "outputs": [
    {
     "name": "stdout",
     "output_type": "stream",
     "text": [
      "45\n"
     ]
    }
   ],
   "source": [
    "#function call\n",
    "print(add_numbers())"
   ]
  },
  {
   "cell_type": "code",
   "execution_count": 20,
   "id": "b569ba44",
   "metadata": {},
   "outputs": [],
   "source": [
    "#define a function\n",
    "def calc_square(int_1 = 1):\n",
    "    square = int_1 * int_1\n",
    "    return square"
   ]
  },
  {
   "cell_type": "code",
   "execution_count": 21,
   "id": "423286af",
   "metadata": {},
   "outputs": [
    {
     "name": "stdout",
     "output_type": "stream",
     "text": [
      "25\n"
     ]
    }
   ],
   "source": [
    "#function call\n",
    "print(calc_square(5))"
   ]
  },
  {
   "cell_type": "code",
   "execution_count": 22,
   "id": "4c7de366",
   "metadata": {},
   "outputs": [
    {
     "name": "stdout",
     "output_type": "stream",
     "text": [
      "1\n"
     ]
    }
   ],
   "source": [
    "#function call\n",
    "print(calc_square())"
   ]
  },
  {
   "cell_type": "markdown",
   "id": "7cef7cd8",
   "metadata": {},
   "source": [
    "### Function Keyword Arguments"
   ]
  },
  {
   "cell_type": "code",
   "execution_count": 23,
   "id": "3188da16",
   "metadata": {},
   "outputs": [],
   "source": [
    "#define a function\n",
    "def show_info(name, id):\n",
    "    print(f'Name: {name}')\n",
    "    print(f'ID: {id}')"
   ]
  },
  {
   "cell_type": "code",
   "execution_count": 24,
   "id": "31ebc840",
   "metadata": {},
   "outputs": [
    {
     "name": "stdout",
     "output_type": "stream",
     "text": [
      "Name: Pu\n",
      "ID: 66\n"
     ]
    }
   ],
   "source": [
    "#function call\n",
    "show_info(id = 66, name = \"Pu\")"
   ]
  },
  {
   "cell_type": "code",
   "execution_count": 25,
   "id": "86654c67",
   "metadata": {},
   "outputs": [],
   "source": [
    "#define a function\n",
    "def nong_aow_rai(noodle, soup, meat, extra):\n",
    "    print(f'You ordered {noodle} {soup} with {meat} and {extra}')"
   ]
  },
  {
   "cell_type": "code",
   "execution_count": 26,
   "id": "82fb702a",
   "metadata": {},
   "outputs": [
    {
     "name": "stdout",
     "output_type": "stream",
     "text": [
      "You ordered sen yai nam sai with nuea pla and luk chin\n"
     ]
    }
   ],
   "source": [
    "#function call\n",
    "nong_aow_rai(meat='nuea pla', noodle='sen yai', soup='nam sai', extra='luk chin')"
   ]
  },
  {
   "cell_type": "markdown",
   "id": "984e9969",
   "metadata": {},
   "source": [
    "### Function With Arbitrary Arguments"
   ]
  },
  {
   "cell_type": "code",
   "execution_count": 27,
   "id": "50145750",
   "metadata": {},
   "outputs": [],
   "source": [
    "#define a function\n",
    "def calc_sum(*numbers):\n",
    "    sum = 0\n",
    "\n",
    "    #for loop\n",
    "    for number in numbers:\n",
    "        sum = sum + number\n",
    "\n",
    "    print(sum)"
   ]
  },
  {
   "cell_type": "code",
   "execution_count": 28,
   "id": "b4cfb717",
   "metadata": {},
   "outputs": [
    {
     "name": "stdout",
     "output_type": "stream",
     "text": [
      "15\n",
      "100\n"
     ]
    }
   ],
   "source": [
    "#function call\n",
    "calc_sum(1, 2, 3, 4, 5)\n",
    "calc_sum(37, 63)"
   ]
  },
  {
   "cell_type": "markdown",
   "id": "abb17dd8",
   "metadata": {},
   "source": [
    "## Variable Scope"
   ]
  },
  {
   "cell_type": "markdown",
   "id": "cf1abd54",
   "metadata": {},
   "source": [
    "### Local Variables"
   ]
  },
  {
   "cell_type": "code",
   "execution_count": 29,
   "id": "90f9dc9d",
   "metadata": {},
   "outputs": [],
   "source": [
    "#local variable\n",
    "#define a function\n",
    "def greet():\n",
    "    message = \"Hi\"\n",
    "    print(\"Local:\", message)"
   ]
  },
  {
   "cell_type": "code",
   "execution_count": 30,
   "id": "0f4087d0",
   "metadata": {},
   "outputs": [
    {
     "name": "stdout",
     "output_type": "stream",
     "text": [
      "Local: Hi\n"
     ]
    },
    {
     "ename": "NameError",
     "evalue": "name 'message' is not defined",
     "output_type": "error",
     "traceback": [
      "\u001b[31m---------------------------------------------------------------------------\u001b[39m",
      "\u001b[31mNameError\u001b[39m                                 Traceback (most recent call last)",
      "\u001b[36mCell\u001b[39m\u001b[36m \u001b[39m\u001b[32mIn[30]\u001b[39m\u001b[32m, line 3\u001b[39m\n\u001b[32m      1\u001b[39m \u001b[38;5;66;03m#Name Error\u001b[39;00m\n\u001b[32m      2\u001b[39m greet()\n\u001b[32m----> \u001b[39m\u001b[32m3\u001b[39m \u001b[38;5;28mprint\u001b[39m(\u001b[43mmessage\u001b[49m)\n",
      "\u001b[31mNameError\u001b[39m: name 'message' is not defined"
     ]
    }
   ],
   "source": [
    "#Name Error\n",
    "greet()\n",
    "print(message)"
   ]
  },
  {
   "cell_type": "markdown",
   "id": "c0ec8de6",
   "metadata": {},
   "source": [
    "### Global Variables"
   ]
  },
  {
   "cell_type": "code",
   "execution_count": 31,
   "id": "e032e559",
   "metadata": {},
   "outputs": [
    {
     "name": "stdout",
     "output_type": "stream",
     "text": [
      "Local: Hello\n",
      "Global: Hello\n"
     ]
    }
   ],
   "source": [
    "#variable assignment\n",
    "phrase = \"Hello\"\n",
    "\n",
    "#define a function\n",
    "def greet():\n",
    "    print(\"Local:\", phrase)\n",
    "\n",
    "greet()\n",
    "print(\"Global:\", phrase)"
   ]
  },
  {
   "cell_type": "code",
   "execution_count": 32,
   "id": "8d10e4db",
   "metadata": {},
   "outputs": [
    {
     "name": "stdout",
     "output_type": "stream",
     "text": [
      "Before function call: global\n",
      "Local: edited by local\n",
      "After function call: global\n"
     ]
    }
   ],
   "source": [
    "#variable assignment\n",
    "message = \"global\"\n",
    "\n",
    "#define a function\n",
    "def greet():\n",
    "    #local variable\n",
    "    message = \"edited by local\"\n",
    "    print(\"Local:\", message)\n",
    "\n",
    "print(f\"Before function call: {message}\")\n",
    "greet()\n",
    "print(f\"After function call: {message}\")"
   ]
  },
  {
   "cell_type": "code",
   "execution_count": 33,
   "id": "f3c1a59e",
   "metadata": {},
   "outputs": [
    {
     "name": "stdout",
     "output_type": "stream",
     "text": [
      "Before message change: global\n",
      "After message change: edited by global\n",
      "Local: edited by global\n"
     ]
    }
   ],
   "source": [
    "#variable assignment\n",
    "message = \"global\"\n",
    "\n",
    "#define a function\n",
    "def greet():\n",
    "    print(\"Local:\", message)\n",
    "\n",
    "print(f\"Before message change: {message}\")\n",
    "\n",
    "#global variable\n",
    "message = \"edited by global\"\n",
    "\n",
    "print(f\"After message change: {message}\")\n",
    "greet()"
   ]
  },
  {
   "cell_type": "markdown",
   "id": "0ba8d24a",
   "metadata": {},
   "source": [
    "## Lambda Function"
   ]
  },
  {
   "cell_type": "code",
   "execution_count": null,
   "id": "c1587cd7",
   "metadata": {},
   "outputs": [],
   "source": [
    "lambda argument : expression"
   ]
  },
  {
   "cell_type": "code",
   "execution_count": 7,
   "id": "7e25d2bf",
   "metadata": {},
   "outputs": [
    {
     "name": "stdout",
     "output_type": "stream",
     "text": [
      "6\n"
     ]
    }
   ],
   "source": [
    "#define a function\n",
    "add_one = lambda n : n + 1\n",
    "\n",
    "#function call\n",
    "print(add_one(5))"
   ]
  },
  {
   "cell_type": "code",
   "execution_count": 35,
   "id": "e33452b7",
   "metadata": {},
   "outputs": [
    {
     "name": "stdout",
     "output_type": "stream",
     "text": [
      "11\n"
     ]
    }
   ],
   "source": [
    "#define a function\n",
    "add_ten = lambda n : n + 10\n",
    "\n",
    "#function call\n",
    "print(add_ten(1))"
   ]
  },
  {
   "cell_type": "code",
   "execution_count": 36,
   "id": "c1bb4400",
   "metadata": {},
   "outputs": [
    {
     "name": "stdout",
     "output_type": "stream",
     "text": [
      "56\n"
     ]
    }
   ],
   "source": [
    "#define a function\n",
    "calc_multiply = lambda a, b : a * b\n",
    "\n",
    "#function call\n",
    "print(calc_multiply(7, 8))"
   ]
  },
  {
   "cell_type": "code",
   "execution_count": 37,
   "id": "808b209d",
   "metadata": {},
   "outputs": [
    {
     "name": "stdout",
     "output_type": "stream",
     "text": [
      "30\n"
     ]
    }
   ],
   "source": [
    "#define a funciton\n",
    "find_sum = lambda a, b, c : a + b + c\n",
    "\n",
    "#function call\n",
    "print(find_sum(5, 12, 13))"
   ]
  },
  {
   "cell_type": "code",
   "execution_count": 38,
   "id": "c3603eef",
   "metadata": {},
   "outputs": [
    {
     "name": "stdout",
     "output_type": "stream",
     "text": [
      "11\n",
      "-1\n",
      "30\n",
      "0.8333333333333334\n"
     ]
    }
   ],
   "source": [
    "def calculator(a, b, function):\n",
    "    return function(a,b)\n",
    "\n",
    "print(calculator(5, 6, lambda x,y : x + y))\n",
    "print(calculator(5, 6, lambda x,y : x - y))\n",
    "print(calculator(5, 6, lambda x,y : x * y))\n",
    "print(calculator(5, 6, lambda x,y : x / y))"
   ]
  },
  {
   "cell_type": "code",
   "execution_count": 39,
   "id": "3d7f4284",
   "metadata": {},
   "outputs": [
    {
     "name": "stdout",
     "output_type": "stream",
     "text": [
      "[5]\n",
      "[5, 6]\n"
     ]
    }
   ],
   "source": [
    "def add_item_to_list(item, my_list = []):\n",
    "    # if my_list is None:\n",
    "    #     my_list = []\n",
    "    my_list.append(item)\n",
    "    return my_list\n",
    "\n",
    "# print(add_item_to_list(5, [7,8]))\n",
    "print(add_item_to_list(5))\n",
    "print(add_item_to_list(6))"
   ]
  },
  {
   "cell_type": "code",
   "execution_count": 41,
   "id": "557c1b8a",
   "metadata": {},
   "outputs": [
    {
     "name": "stdout",
     "output_type": "stream",
     "text": [
      "[5]\n",
      "[6]\n"
     ]
    }
   ],
   "source": [
    "def add_item_to_list(item, my_list = None):\n",
    "    if my_list is None:\n",
    "        my_list = []\n",
    "    return my_list + [item]\n",
    "\n",
    "# print(add_item_to_list(5, [7,8]))\n",
    "print(add_item_to_list(5))\n",
    "print(add_item_to_list(6))"
   ]
  }
 ],
 "metadata": {
  "kernelspec": {
   "display_name": "Python 3",
   "language": "python",
   "name": "python3"
  },
  "language_info": {
   "codemirror_mode": {
    "name": "ipython",
    "version": 3
   },
   "file_extension": ".py",
   "mimetype": "text/x-python",
   "name": "python",
   "nbconvert_exporter": "python",
   "pygments_lexer": "ipython3",
   "version": "3.13.2"
  }
 },
 "nbformat": 4,
 "nbformat_minor": 5
}
