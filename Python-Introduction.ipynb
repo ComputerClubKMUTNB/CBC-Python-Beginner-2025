{
 "cells": [
  {
   "cell_type": "code",
   "execution_count": 1,
   "id": "eab0d5be",
   "metadata": {},
   "outputs": [
    {
     "name": "stdout",
     "output_type": "stream",
     "text": [
      "Hello, World!\n"
     ]
    }
   ],
   "source": [
    "print(\"Hello, World!\")"
   ]
  },
  {
   "cell_type": "code",
   "execution_count": 6,
   "id": "cfc1c644",
   "metadata": {},
   "outputs": [
    {
     "name": "stdout",
     "output_type": "stream",
     "text": [
      "New Line 1\n",
      "New Line 2\n",
      "New Line 3\n"
     ]
    }
   ],
   "source": [
    "print(\"New Line 1\")\n",
    "print(\"New Line 2\")\n",
    "print(\"New Line 3\")"
   ]
  },
  {
   "cell_type": "markdown",
   "id": "2564ba91",
   "metadata": {},
   "source": [
    "## (parameter) end: str | None"
   ]
  },
  {
   "cell_type": "code",
   "execution_count": 7,
   "id": "ccc9de62",
   "metadata": {},
   "outputs": [
    {
     "name": "stdout",
     "output_type": "stream",
     "text": [
      "With Out New Line 1With Out New Line 2With Out New Line 3"
     ]
    }
   ],
   "source": [
    "print(\"With Out New Line 1\", end=\"\")\n",
    "print(\"With Out New Line 2\", end=\"\")\n",
    "print(\"With Out New Line 3\", end=\"\")"
   ]
  },
  {
   "cell_type": "code",
   "execution_count": 8,
   "id": "e8e2fc74",
   "metadata": {},
   "outputs": [
    {
     "name": "stdout",
     "output_type": "stream",
     "text": [
      "With Out New Line 1<END>With Out New Line 2<END>With Out New Line 3<END>"
     ]
    }
   ],
   "source": [
    "print(\"With Out New Line 1\", end=\"<END>\")\n",
    "print(\"With Out New Line 2\", end=\"<END>\")\n",
    "print(\"With Out New Line 3\", end=\"<END>\")"
   ]
  },
  {
   "cell_type": "code",
   "execution_count": 5,
   "id": "924267c7",
   "metadata": {},
   "outputs": [
    {
     "name": "stdout",
     "output_type": "stream",
     "text": [
      "Hello, World! 1 Hello, World! 2 Hello, World! 3\n"
     ]
    }
   ],
   "source": [
    "print(\"Hello, World! 1\", \"Hello, World! 2\", \"Hello, World! 3\")"
   ]
  },
  {
   "cell_type": "code",
   "execution_count": 3,
   "id": "a10cff01",
   "metadata": {},
   "outputs": [
    {
     "name": "stdout",
     "output_type": "stream",
     "text": [
      "1\n",
      "1\n"
     ]
    }
   ],
   "source": [
    "print(1)\n",
    "print(\"1\")"
   ]
  }
 ],
 "metadata": {
  "kernelspec": {
   "display_name": "Python 3",
   "language": "python",
   "name": "python3"
  },
  "language_info": {
   "codemirror_mode": {
    "name": "ipython",
    "version": 3
   },
   "file_extension": ".py",
   "mimetype": "text/x-python",
   "name": "python",
   "nbconvert_exporter": "python",
   "pygments_lexer": "ipython3",
   "version": "3.9.6"
  }
 },
 "nbformat": 4,
 "nbformat_minor": 5
}
